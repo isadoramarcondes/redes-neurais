{
 "cells": [
  {
   "cell_type": "markdown",
   "metadata": {},
   "source": [
    "Finalizando a classe Valor\n",
    "==========================\n",
    "\n"
   ]
  },
  {
   "cell_type": "markdown",
   "metadata": {},
   "source": [
    "## Introdução\n",
    "\n"
   ]
  },
  {
   "cell_type": "markdown",
   "metadata": {},
   "source": [
    "Chegou a hora de finalizar a classe `Valor`!\n",
    "\n"
   ]
  },
  {
   "cell_type": "markdown",
   "metadata": {},
   "source": [
    "## Objetivo\n",
    "\n"
   ]
  },
  {
   "cell_type": "markdown",
   "metadata": {},
   "source": [
    "O objetivo é fazer com que a classe `Valor` seja capaz de realizar algumas operações necessárias para que seja usada na nossa rede neural artificial.\n",
    "\n"
   ]
  },
  {
   "cell_type": "markdown",
   "metadata": {},
   "source": [
    "## Importações\n",
    "\n"
   ]
  },
  {
   "cell_type": "code",
   "execution_count": 1,
   "metadata": {},
   "outputs": [],
   "source": [
    "import math\n",
    "from funcoes import plota_grafo"
   ]
  },
  {
   "cell_type": "markdown",
   "metadata": {},
   "source": [
    "## Código e discussão\n",
    "\n"
   ]
  },
  {
   "cell_type": "markdown",
   "metadata": {},
   "source": [
    "### Finalizando a classe `Valor`\n",
    "\n"
   ]
  },
  {
   "cell_type": "markdown",
   "metadata": {},
   "source": [
    "Aqui está a classe `Valor` assim como feita na aula anterior. Vamos modificá-la para cumprir nossos objetivos (ver objetivos na próxima seção).\n",
    "\n"
   ]
  },
  {
   "cell_type": "code",
   "execution_count": 2,
   "metadata": {},
   "outputs": [],
   "source": [
    "class Valor:\n",
    "    def __init__(self, data, progenitor=(), operador_mae=\"\", rotulo=\"\"):\n",
    "        self.data = data\n",
    "        self.progenitor = progenitor\n",
    "        self.operador_mae = operador_mae\n",
    "        self.rotulo = rotulo\n",
    "        self.grad = 0\n",
    "\n",
    "    def __repr__(self):\n",
    "        return f\"Valor(data={self.data})\"\n",
    "\n",
    "    def __add__(self, outro_valor):\n",
    "        if not isinstance(outro_valor, Valor):\n",
    "            outro_valor = Valor(outro_valor)\n",
    "        data = self.data + outro_valor.data\n",
    "        progenitor = (self, outro_valor)\n",
    "        operador_mae = \"+\"\n",
    "        saida = Valor(data, progenitor, operador_mae)\n",
    "\n",
    "        def propagar_adicao():\n",
    "            self.grad += saida.grad * 1\n",
    "            outro_valor.grad += saida.grad * 1\n",
    "\n",
    "        saida.propagar = propagar_adicao\n",
    "\n",
    "        return saida\n",
    "    \n",
    "    def __radd__(self, outro_valor): # outro_valor + self\n",
    "        return self + outro_valor\n",
    "\n",
    "    def __mul__(self, outro_valor):\n",
    "        if not isinstance(outro_valor, Valor):\n",
    "            outro_valor = Valor(outro_valor)\n",
    "        data = self.data * outro_valor.data\n",
    "        progenitor = (self, outro_valor)\n",
    "        operador_mae = \"*\"\n",
    "        saida = Valor(data, progenitor, operador_mae)\n",
    "\n",
    "        def propagar_multiplicacao():\n",
    "            self.grad += saida.grad * outro_valor.data\n",
    "            outro_valor.grad += saida.grad * self.data\n",
    "\n",
    "        saida.propagar = propagar_multiplicacao\n",
    "\n",
    "        return saida\n",
    "    \n",
    "    def __rmul__(self, outro_valor): # outro_valor * self\n",
    "        return self * outro_valor\n",
    "    \n",
    "    def __pow__(self, expoente):  # self ** expoente\n",
    "        \n",
    "        assert isinstance(expoente, (int, float))\n",
    "\n",
    "        data = self.data ** expoente\n",
    "        progenitor = (self, )\n",
    "        operador_mae = f\"**{expoente}\"\n",
    "        saida = Valor(data, progenitor, operador_mae)\n",
    "\n",
    "        def propagar_exponenciacao():\n",
    "            self.grad += saida.grad * expoente * (self.data ** (expoente - 1))\n",
    "\n",
    "        saida.propagar = propagar_exponenciacao\n",
    "\n",
    "        return saida\n",
    "    \n",
    "    def __truediv__(self, outro_valor): # self / outro_valor\n",
    "        return self * outro_valor ** (-1)\n",
    "    \n",
    "    def __neg__(self):  # - self\n",
    "        return self * (-1)\n",
    "    \n",
    "    def __sub__(self, outro_valor):  # self - outro_valor\n",
    "        return self + (-outro_valor)\n",
    "    \n",
    "    def __rsub__(self, outro_valor):  # outro_valor - self\n",
    "        return self * (-1) + outro_valor\n",
    "    \n",
    "    def exp(self):\n",
    "\n",
    "        data = math.exp(self.data)\n",
    "        progenitor = (self, )\n",
    "        operador_mae = \"exp\"\n",
    "        saida = Valor(data, progenitor, operador_mae)\n",
    "\n",
    "        def propagar_exp():\n",
    "            self.grad += saida.grad * data\n",
    "\n",
    "        saida.propagar = propagar_exp\n",
    "\n",
    "        return saida\n",
    "    \n",
    "    def sig(self): \n",
    "        return self.exp() / (self.exp() + 1)\n",
    "\n",
    "    def propagar(self):\n",
    "        pass\n",
    "\n",
    "    def propagar_tudo(self):\n",
    "        ordem_topologica = []\n",
    "        visitados = set()\n",
    "\n",
    "        def constroi_ordem_topologica(v):\n",
    "            if v not in visitados:\n",
    "                visitados.add(v)\n",
    "                for progenitor in v.progenitor:\n",
    "                    constroi_ordem_topologica(progenitor)\n",
    "                ordem_topologica.append(v)\n",
    "\n",
    "        constroi_ordem_topologica(self)\n",
    "\n",
    "        self.grad = 1  # o gradiente do vértice folha deve ser 1\n",
    "\n",
    "        for v in reversed(ordem_topologica):\n",
    "            v.propagar()"
   ]
  },
  {
   "cell_type": "markdown",
   "metadata": {},
   "source": [
    "### Objetivos a serem cumpridos\n",
    "\n"
   ]
  },
  {
   "cell_type": "markdown",
   "metadata": {},
   "source": [
    "Quero poder acidionar uma instância de `Valor` com uma constante qualquer.\n",
    "\n"
   ]
  },
  {
   "cell_type": "code",
   "execution_count": 3,
   "metadata": {},
   "outputs": [
    {
     "data": {
      "text/plain": [
       "Valor(data=11)"
      ]
     },
     "execution_count": 3,
     "metadata": {},
     "output_type": "execute_result"
    }
   ],
   "source": [
    "a = Valor(10, rotulo=\"a\")\n",
    "b = a + 1\n",
    "a.__add__(1)"
   ]
  },
  {
   "cell_type": "markdown",
   "metadata": {},
   "source": [
    "Quero poder multiplicar uma instância de `Valor` com uma constante qualquer.\n",
    "\n"
   ]
  },
  {
   "cell_type": "code",
   "execution_count": 4,
   "metadata": {},
   "outputs": [
    {
     "name": "stdout",
     "output_type": "stream",
     "text": [
      "Valor(data=100)\n"
     ]
    }
   ],
   "source": [
    "a = Valor(10, rotulo=\"a\")\n",
    "b = a * 10\n",
    "print(b)"
   ]
  },
  {
   "cell_type": "markdown",
   "metadata": {},
   "source": [
    "Quero poder acidionar uma instância de `Valor` com uma constante qualquer, mas na ordem oposta.\n",
    "\n"
   ]
  },
  {
   "cell_type": "code",
   "execution_count": 5,
   "metadata": {},
   "outputs": [
    {
     "name": "stdout",
     "output_type": "stream",
     "text": [
      "Valor(data=11)\n"
     ]
    }
   ],
   "source": [
    "a = Valor(10, rotulo=\"a\")\n",
    "b = 1 + a\n",
    "print(b)"
   ]
  },
  {
   "cell_type": "markdown",
   "metadata": {},
   "source": [
    "Quero poder multiplicar uma instância de `Valor` com uma constante qualquer, mas na ordem oposta.\n",
    "\n"
   ]
  },
  {
   "cell_type": "code",
   "execution_count": 6,
   "metadata": {},
   "outputs": [
    {
     "name": "stdout",
     "output_type": "stream",
     "text": [
      "Valor(data=100)\n"
     ]
    }
   ],
   "source": [
    "a = Valor(10, rotulo=\"a\")\n",
    "b = 10 * a\n",
    "print(b)"
   ]
  },
  {
   "cell_type": "markdown",
   "metadata": {},
   "source": [
    "Quero poder aplicar a função exponencial ($e^x$) em uma instância de `Valor`, computando corretamente o gradiente local desta operação.\n",
    "\n"
   ]
  },
  {
   "cell_type": "code",
   "execution_count": 7,
   "metadata": {},
   "outputs": [
    {
     "name": "stdout",
     "output_type": "stream",
     "text": [
      "Valor(data=2.718281828459045)\n"
     ]
    }
   ],
   "source": [
    "a = Valor(1, rotulo=\"a\")\n",
    "b = a.exp()\n",
    "print(b)"
   ]
  },
  {
   "cell_type": "markdown",
   "metadata": {},
   "source": [
    "Quero poder elevar uma instância de `Valor` a um número real qualquer. **Nota**: não vai funcionar se fizer um `Valor` elevado a outro `Valor` pois vamos propagar os gradientes apenas considerando que estamos elevando a uma constante qualquer.\n",
    "\n"
   ]
  },
  {
   "cell_type": "code",
   "execution_count": 8,
   "metadata": {},
   "outputs": [
    {
     "name": "stdout",
     "output_type": "stream",
     "text": [
      "Valor(data=100)\n"
     ]
    }
   ],
   "source": [
    "a = Valor(10, rotulo=\"a\")\n",
    "b = a**2\n",
    "print(b)"
   ]
  },
  {
   "cell_type": "markdown",
   "metadata": {},
   "source": [
    "Quero poder dividir uma instância de `Valor` por outra instância de `Valor`.\n",
    "\n"
   ]
  },
  {
   "cell_type": "code",
   "execution_count": 9,
   "metadata": {},
   "outputs": [
    {
     "name": "stdout",
     "output_type": "stream",
     "text": [
      "Valor(data=0.5)\n"
     ]
    },
    {
     "data": {
      "image/svg+xml": [
       "<?xml version=\"1.0\" encoding=\"UTF-8\" standalone=\"no\"?>\n",
       "<!DOCTYPE svg PUBLIC \"-//W3C//DTD SVG 1.1//EN\"\n",
       " \"http://www.w3.org/Graphics/SVG/1.1/DTD/svg11.dtd\">\n",
       "<!-- Generated by graphviz version 6.0.2 (20221011.1828)\n",
       " -->\n",
       "<!-- Pages: 1 -->\n",
       "<svg width=\"819pt\" height=\"100pt\"\n",
       " viewBox=\"0.00 0.00 819.00 100.00\" xmlns=\"http://www.w3.org/2000/svg\" xmlns:xlink=\"http://www.w3.org/1999/xlink\">\n",
       "<g id=\"graph0\" class=\"graph\" transform=\"scale(1 1) rotate(0) translate(4 96)\">\n",
       "<polygon fill=\"white\" stroke=\"none\" points=\"-4,4 -4,-96 815,-96 815,4 -4,4\"/>\n",
       "<!-- 2535822718336 -->\n",
       "<g id=\"node1\" class=\"node\">\n",
       "<title>2535822718336</title>\n",
       "<polygon fill=\"none\" stroke=\"black\" points=\"627,-27.5 627,-63.5 811,-63.5 811,-27.5 627,-27.5\"/>\n",
       "<text text-anchor=\"middle\" x=\"637\" y=\"-41.8\" font-family=\"Times New Roman,serif\" font-size=\"14.00\"> </text>\n",
       "<polyline fill=\"none\" stroke=\"black\" points=\"647,-27.5 647,-63.5\"/>\n",
       "<text text-anchor=\"middle\" x=\"687.5\" y=\"-41.8\" font-family=\"Times New Roman,serif\" font-size=\"14.00\">data 0.5000</text>\n",
       "<polyline fill=\"none\" stroke=\"black\" points=\"728,-27.5 728,-63.5\"/>\n",
       "<text text-anchor=\"middle\" x=\"769.5\" y=\"-41.8\" font-family=\"Times New Roman,serif\" font-size=\"14.00\">grad 0.0000</text>\n",
       "</g>\n",
       "<!-- 2535822718336* -->\n",
       "<g id=\"node2\" class=\"node\">\n",
       "<title>2535822718336*</title>\n",
       "<ellipse fill=\"none\" stroke=\"black\" cx=\"564\" cy=\"-45.5\" rx=\"27\" ry=\"18\"/>\n",
       "<text text-anchor=\"middle\" x=\"564\" y=\"-41.8\" font-family=\"Times New Roman,serif\" font-size=\"14.00\">*</text>\n",
       "</g>\n",
       "<!-- 2535822718336*&#45;&gt;2535822718336 -->\n",
       "<g id=\"edge1\" class=\"edge\">\n",
       "<title>2535822718336*&#45;&gt;2535822718336</title>\n",
       "<path fill=\"none\" stroke=\"black\" d=\"M591.3,-45.5C598.83,-45.5 607.52,-45.5 616.75,-45.5\"/>\n",
       "<polygon fill=\"black\" stroke=\"black\" points=\"616.95,-49 626.95,-45.5 616.95,-42 616.95,-49\"/>\n",
       "</g>\n",
       "<!-- 2535822719152 -->\n",
       "<g id=\"node3\" class=\"node\">\n",
       "<title>2535822719152</title>\n",
       "<polygon fill=\"none\" stroke=\"black\" points=\"0,-0.5 0,-36.5 188,-36.5 188,-0.5 0,-0.5\"/>\n",
       "<text text-anchor=\"middle\" x=\"12\" y=\"-14.8\" font-family=\"Times New Roman,serif\" font-size=\"14.00\">b</text>\n",
       "<polyline fill=\"none\" stroke=\"black\" points=\"24,-0.5 24,-36.5\"/>\n",
       "<text text-anchor=\"middle\" x=\"64.5\" y=\"-14.8\" font-family=\"Times New Roman,serif\" font-size=\"14.00\">data 2.0000</text>\n",
       "<polyline fill=\"none\" stroke=\"black\" points=\"105,-0.5 105,-36.5\"/>\n",
       "<text text-anchor=\"middle\" x=\"146.5\" y=\"-14.8\" font-family=\"Times New Roman,serif\" font-size=\"14.00\">grad 0.0000</text>\n",
       "</g>\n",
       "<!-- 2535822718192**&#45;1 -->\n",
       "<g id=\"node6\" class=\"node\">\n",
       "<title>2535822718192**&#45;1</title>\n",
       "<ellipse fill=\"none\" stroke=\"black\" cx=\"251\" cy=\"-18.5\" rx=\"27\" ry=\"18\"/>\n",
       "<text text-anchor=\"middle\" x=\"251\" y=\"-14.8\" font-family=\"Times New Roman,serif\" font-size=\"14.00\">**&#45;1</text>\n",
       "</g>\n",
       "<!-- 2535822719152&#45;&gt;2535822718192**&#45;1 -->\n",
       "<g id=\"edge5\" class=\"edge\">\n",
       "<title>2535822719152&#45;&gt;2535822718192**&#45;1</title>\n",
       "<path fill=\"none\" stroke=\"black\" d=\"M188.29,-18.5C197.2,-18.5 205.81,-18.5 213.64,-18.5\"/>\n",
       "<polygon fill=\"black\" stroke=\"black\" points=\"213.77,-22 223.77,-18.5 213.77,-15 213.77,-22\"/>\n",
       "</g>\n",
       "<!-- 2535822718288 -->\n",
       "<g id=\"node4\" class=\"node\">\n",
       "<title>2535822718288</title>\n",
       "<polygon fill=\"none\" stroke=\"black\" points=\"314,-55.5 314,-91.5 501,-91.5 501,-55.5 314,-55.5\"/>\n",
       "<text text-anchor=\"middle\" x=\"325.5\" y=\"-69.8\" font-family=\"Times New Roman,serif\" font-size=\"14.00\">a</text>\n",
       "<polyline fill=\"none\" stroke=\"black\" points=\"337,-55.5 337,-91.5\"/>\n",
       "<text text-anchor=\"middle\" x=\"377.5\" y=\"-69.8\" font-family=\"Times New Roman,serif\" font-size=\"14.00\">data 1.0000</text>\n",
       "<polyline fill=\"none\" stroke=\"black\" points=\"418,-55.5 418,-91.5\"/>\n",
       "<text text-anchor=\"middle\" x=\"459.5\" y=\"-69.8\" font-family=\"Times New Roman,serif\" font-size=\"14.00\">grad 0.0000</text>\n",
       "</g>\n",
       "<!-- 2535822718288&#45;&gt;2535822718336* -->\n",
       "<g id=\"edge4\" class=\"edge\">\n",
       "<title>2535822718288&#45;&gt;2535822718336*</title>\n",
       "<path fill=\"none\" stroke=\"black\" d=\"M501.05,-56.73C510.54,-55.01 519.71,-53.35 527.95,-51.85\"/>\n",
       "<polygon fill=\"black\" stroke=\"black\" points=\"528.64,-55.28 537.85,-50.06 527.39,-48.4 528.64,-55.28\"/>\n",
       "</g>\n",
       "<!-- 2535822718192 -->\n",
       "<g id=\"node5\" class=\"node\">\n",
       "<title>2535822718192</title>\n",
       "<polygon fill=\"none\" stroke=\"black\" points=\"315.5,-0.5 315.5,-36.5 499.5,-36.5 499.5,-0.5 315.5,-0.5\"/>\n",
       "<text text-anchor=\"middle\" x=\"325.5\" y=\"-14.8\" font-family=\"Times New Roman,serif\" font-size=\"14.00\"> </text>\n",
       "<polyline fill=\"none\" stroke=\"black\" points=\"335.5,-0.5 335.5,-36.5\"/>\n",
       "<text text-anchor=\"middle\" x=\"376\" y=\"-14.8\" font-family=\"Times New Roman,serif\" font-size=\"14.00\">data 0.5000</text>\n",
       "<polyline fill=\"none\" stroke=\"black\" points=\"416.5,-0.5 416.5,-36.5\"/>\n",
       "<text text-anchor=\"middle\" x=\"458\" y=\"-14.8\" font-family=\"Times New Roman,serif\" font-size=\"14.00\">grad 0.0000</text>\n",
       "</g>\n",
       "<!-- 2535822718192&#45;&gt;2535822718336* -->\n",
       "<g id=\"edge3\" class=\"edge\">\n",
       "<title>2535822718192&#45;&gt;2535822718336*</title>\n",
       "<path fill=\"none\" stroke=\"black\" d=\"M499.71,-34.44C509.56,-36.16 519.09,-37.83 527.65,-39.32\"/>\n",
       "<polygon fill=\"black\" stroke=\"black\" points=\"527.09,-42.78 537.54,-41.05 528.3,-35.88 527.09,-42.78\"/>\n",
       "</g>\n",
       "<!-- 2535822718192**&#45;1&#45;&gt;2535822718192 -->\n",
       "<g id=\"edge2\" class=\"edge\">\n",
       "<title>2535822718192**&#45;1&#45;&gt;2535822718192</title>\n",
       "<path fill=\"none\" stroke=\"black\" d=\"M278.21,-18.5C286.07,-18.5 295.2,-18.5 304.91,-18.5\"/>\n",
       "<polygon fill=\"black\" stroke=\"black\" points=\"305.2,-22 315.2,-18.5 305.2,-15 305.2,-22\"/>\n",
       "</g>\n",
       "</g>\n",
       "</svg>\n"
      ],
      "text/plain": [
       "<graphviz.graphs.Digraph at 0x24e6acff610>"
      ]
     },
     "execution_count": 9,
     "metadata": {},
     "output_type": "execute_result"
    }
   ],
   "source": [
    "a = Valor(1, rotulo=\"a\")\n",
    "b = Valor(2, rotulo=\"b\")\n",
    "c = a / b\n",
    "print(c)\n",
    "\n",
    "plota_grafo(c)"
   ]
  },
  {
   "cell_type": "markdown",
   "metadata": {},
   "source": [
    "Quero poder computar o negativo de uma instância de `Valor`.\n",
    "\n"
   ]
  },
  {
   "cell_type": "code",
   "execution_count": 10,
   "metadata": {},
   "outputs": [
    {
     "name": "stdout",
     "output_type": "stream",
     "text": [
      "Valor(data=-1)\n"
     ]
    }
   ],
   "source": [
    "a = Valor(1, rotulo=\"a\")\n",
    "b = -a\n",
    "print(b)"
   ]
  },
  {
   "cell_type": "markdown",
   "metadata": {},
   "source": [
    "Quero poder subtrair uma instância de `Valor` por outra instância de `Valor`.\n",
    "\n"
   ]
  },
  {
   "cell_type": "code",
   "execution_count": 11,
   "metadata": {},
   "outputs": [
    {
     "name": "stdout",
     "output_type": "stream",
     "text": [
      "Valor(data=7)\n"
     ]
    }
   ],
   "source": [
    "a = Valor(10, rotulo=\"a\")\n",
    "b = Valor(3, rotulo=\"b\")\n",
    "c = a - b\n",
    "print(c)"
   ]
  },
  {
   "cell_type": "markdown",
   "metadata": {},
   "source": [
    "E, finalmente, quero poder aplicar a função sigmoide (também conhecida como logística) a uma instância de `Valor`. A função sigmoide é a seguinte:\n",
    "\n",
    "$$\n",
    "S(x) = \\frac{e^x}{e^x + 1}\n",
    "$$\n",
    "\n"
   ]
  },
  {
   "cell_type": "code",
   "execution_count": 12,
   "metadata": {},
   "outputs": [
    {
     "name": "stdout",
     "output_type": "stream",
     "text": [
      "Valor(data=0.7310585786300048)\n"
     ]
    },
    {
     "data": {
      "image/svg+xml": [
       "<?xml version=\"1.0\" encoding=\"UTF-8\" standalone=\"no\"?>\n",
       "<!DOCTYPE svg PUBLIC \"-//W3C//DTD SVG 1.1//EN\"\n",
       " \"http://www.w3.org/Graphics/SVG/1.1/DTD/svg11.dtd\">\n",
       "<!-- Generated by graphviz version 6.0.2 (20221011.1828)\n",
       " -->\n",
       "<!-- Pages: 1 -->\n",
       "<svg width=\"1573pt\" height=\"147pt\"\n",
       " viewBox=\"0.00 0.00 1573.00 147.00\" xmlns=\"http://www.w3.org/2000/svg\" xmlns:xlink=\"http://www.w3.org/1999/xlink\">\n",
       "<g id=\"graph0\" class=\"graph\" transform=\"scale(1 1) rotate(0) translate(4 143)\">\n",
       "<polygon fill=\"white\" stroke=\"none\" points=\"-4,4 -4,-143 1569,-143 1569,4 -4,4\"/>\n",
       "<!-- 2535822717520 -->\n",
       "<g id=\"node1\" class=\"node\">\n",
       "<title>2535822717520</title>\n",
       "<polygon fill=\"none\" stroke=\"black\" points=\"0,-51.5 0,-87.5 187,-87.5 187,-51.5 0,-51.5\"/>\n",
       "<text text-anchor=\"middle\" x=\"11.5\" y=\"-65.8\" font-family=\"Times New Roman,serif\" font-size=\"14.00\">a</text>\n",
       "<polyline fill=\"none\" stroke=\"black\" points=\"23,-51.5 23,-87.5\"/>\n",
       "<text text-anchor=\"middle\" x=\"63.5\" y=\"-65.8\" font-family=\"Times New Roman,serif\" font-size=\"14.00\">data 1.0000</text>\n",
       "<polyline fill=\"none\" stroke=\"black\" points=\"104,-51.5 104,-87.5\"/>\n",
       "<text text-anchor=\"middle\" x=\"145.5\" y=\"-65.8\" font-family=\"Times New Roman,serif\" font-size=\"14.00\">grad 0.1966</text>\n",
       "</g>\n",
       "<!-- 2535822717712exp -->\n",
       "<g id=\"node6\" class=\"node\">\n",
       "<title>2535822717712exp</title>\n",
       "<ellipse fill=\"none\" stroke=\"black\" cx=\"250\" cy=\"-108.5\" rx=\"27\" ry=\"18\"/>\n",
       "<text text-anchor=\"middle\" x=\"250\" y=\"-104.8\" font-family=\"Times New Roman,serif\" font-size=\"14.00\">exp</text>\n",
       "</g>\n",
       "<!-- 2535822717520&#45;&gt;2535822717712exp -->\n",
       "<g id=\"edge7\" class=\"edge\">\n",
       "<title>2535822717520&#45;&gt;2535822717712exp</title>\n",
       "<path fill=\"none\" stroke=\"black\" d=\"M165.87,-87.52C182.79,-91.79 200.1,-96.16 214.5,-99.79\"/>\n",
       "<polygon fill=\"black\" stroke=\"black\" points=\"213.88,-103.25 224.43,-102.3 215.6,-96.46 213.88,-103.25\"/>\n",
       "</g>\n",
       "<!-- 2535822719296exp -->\n",
       "<g id=\"node8\" class=\"node\">\n",
       "<title>2535822719296exp</title>\n",
       "<ellipse fill=\"none\" stroke=\"black\" cx=\"250\" cy=\"-42.5\" rx=\"27\" ry=\"18\"/>\n",
       "<text text-anchor=\"middle\" x=\"250\" y=\"-38.8\" font-family=\"Times New Roman,serif\" font-size=\"14.00\">exp</text>\n",
       "</g>\n",
       "<!-- 2535822717520&#45;&gt;2535822719296exp -->\n",
       "<g id=\"edge9\" class=\"edge\">\n",
       "<title>2535822717520&#45;&gt;2535822719296exp</title>\n",
       "<path fill=\"none\" stroke=\"black\" d=\"M187.05,-53.33C196.34,-51.7 205.33,-50.13 213.44,-48.71\"/>\n",
       "<polygon fill=\"black\" stroke=\"black\" points=\"214.3,-52.12 223.55,-46.95 213.1,-45.22 214.3,-52.12\"/>\n",
       "</g>\n",
       "<!-- 2535822609616 -->\n",
       "<g id=\"node2\" class=\"node\">\n",
       "<title>2535822609616</title>\n",
       "<polygon fill=\"none\" stroke=\"black\" points=\"757,-54.5 757,-90.5 945,-90.5 945,-54.5 757,-54.5\"/>\n",
       "<text text-anchor=\"middle\" x=\"767\" y=\"-68.8\" font-family=\"Times New Roman,serif\" font-size=\"14.00\"> </text>\n",
       "<polyline fill=\"none\" stroke=\"black\" points=\"777,-54.5 777,-90.5\"/>\n",
       "<text text-anchor=\"middle\" x=\"817.5\" y=\"-68.8\" font-family=\"Times New Roman,serif\" font-size=\"14.00\">data 3.7183</text>\n",
       "<polyline fill=\"none\" stroke=\"black\" points=\"858,-54.5 858,-90.5\"/>\n",
       "<text text-anchor=\"middle\" x=\"901.5\" y=\"-68.8\" font-family=\"Times New Roman,serif\" font-size=\"14.00\">grad &#45;0.1966</text>\n",
       "</g>\n",
       "<!-- 2535822607264**&#45;1 -->\n",
       "<g id=\"node10\" class=\"node\">\n",
       "<title>2535822607264**&#45;1</title>\n",
       "<ellipse fill=\"none\" stroke=\"black\" cx=\"1008\" cy=\"-71.5\" rx=\"27\" ry=\"18\"/>\n",
       "<text text-anchor=\"middle\" x=\"1008\" y=\"-67.8\" font-family=\"Times New Roman,serif\" font-size=\"14.00\">**&#45;1</text>\n",
       "</g>\n",
       "<!-- 2535822609616&#45;&gt;2535822607264**&#45;1 -->\n",
       "<g id=\"edge10\" class=\"edge\">\n",
       "<title>2535822609616&#45;&gt;2535822607264**&#45;1</title>\n",
       "<path fill=\"none\" stroke=\"black\" d=\"M945.29,-71.9C954.2,-71.84 962.81,-71.79 970.64,-71.73\"/>\n",
       "<polygon fill=\"black\" stroke=\"black\" points=\"970.8,-75.23 980.77,-71.67 970.75,-68.23 970.8,-75.23\"/>\n",
       "</g>\n",
       "<!-- 2535822609616+ -->\n",
       "<g id=\"node3\" class=\"node\">\n",
       "<title>2535822609616+</title>\n",
       "<ellipse fill=\"none\" stroke=\"black\" cx=\"629\" cy=\"-73.5\" rx=\"27\" ry=\"18\"/>\n",
       "<text text-anchor=\"middle\" x=\"629\" y=\"-69.8\" font-family=\"Times New Roman,serif\" font-size=\"14.00\">+</text>\n",
       "</g>\n",
       "<!-- 2535822609616+&#45;&gt;2535822609616 -->\n",
       "<g id=\"edge1\" class=\"edge\">\n",
       "<title>2535822609616+&#45;&gt;2535822609616</title>\n",
       "<path fill=\"none\" stroke=\"black\" d=\"M656.1,-73.38C678.74,-73.28 713.06,-73.12 746.56,-72.97\"/>\n",
       "<polygon fill=\"black\" stroke=\"black\" points=\"746.93,-76.47 756.92,-72.92 746.9,-69.47 746.93,-76.47\"/>\n",
       "</g>\n",
       "<!-- 2535822607600 -->\n",
       "<g id=\"node4\" class=\"node\">\n",
       "<title>2535822607600</title>\n",
       "<polygon fill=\"none\" stroke=\"black\" points=\"313,-47.5 313,-83.5 501,-83.5 501,-47.5 313,-47.5\"/>\n",
       "<text text-anchor=\"middle\" x=\"323\" y=\"-61.8\" font-family=\"Times New Roman,serif\" font-size=\"14.00\"> </text>\n",
       "<polyline fill=\"none\" stroke=\"black\" points=\"333,-47.5 333,-83.5\"/>\n",
       "<text text-anchor=\"middle\" x=\"373.5\" y=\"-61.8\" font-family=\"Times New Roman,serif\" font-size=\"14.00\">data 1.0000</text>\n",
       "<polyline fill=\"none\" stroke=\"black\" points=\"414,-47.5 414,-83.5\"/>\n",
       "<text text-anchor=\"middle\" x=\"457.5\" y=\"-61.8\" font-family=\"Times New Roman,serif\" font-size=\"14.00\">grad &#45;0.1966</text>\n",
       "</g>\n",
       "<!-- 2535822607600&#45;&gt;2535822609616+ -->\n",
       "<g id=\"edge6\" class=\"edge\">\n",
       "<title>2535822607600&#45;&gt;2535822609616+</title>\n",
       "<path fill=\"none\" stroke=\"black\" d=\"M501.3,-68.89C533.13,-70.05 566.87,-71.28 591.52,-72.17\"/>\n",
       "<polygon fill=\"black\" stroke=\"black\" points=\"591.71,-75.68 601.83,-72.55 591.97,-68.69 591.71,-75.68\"/>\n",
       "</g>\n",
       "<!-- 2535822717712 -->\n",
       "<g id=\"node5\" class=\"node\">\n",
       "<title>2535822717712</title>\n",
       "<polygon fill=\"none\" stroke=\"black\" points=\"313,-102.5 313,-138.5 501,-138.5 501,-102.5 313,-102.5\"/>\n",
       "<text text-anchor=\"middle\" x=\"323\" y=\"-116.8\" font-family=\"Times New Roman,serif\" font-size=\"14.00\"> </text>\n",
       "<polyline fill=\"none\" stroke=\"black\" points=\"333,-102.5 333,-138.5\"/>\n",
       "<text text-anchor=\"middle\" x=\"373.5\" y=\"-116.8\" font-family=\"Times New Roman,serif\" font-size=\"14.00\">data 2.7183</text>\n",
       "<polyline fill=\"none\" stroke=\"black\" points=\"414,-102.5 414,-138.5\"/>\n",
       "<text text-anchor=\"middle\" x=\"457.5\" y=\"-116.8\" font-family=\"Times New Roman,serif\" font-size=\"14.00\">grad &#45;0.1966</text>\n",
       "</g>\n",
       "<!-- 2535822717712&#45;&gt;2535822609616+ -->\n",
       "<g id=\"edge8\" class=\"edge\">\n",
       "<title>2535822717712&#45;&gt;2535822609616+</title>\n",
       "<path fill=\"none\" stroke=\"black\" d=\"M492.43,-102.46C527.3,-95.01 565.81,-86.79 592.84,-81.01\"/>\n",
       "<polygon fill=\"black\" stroke=\"black\" points=\"593.92,-84.36 602.96,-78.85 592.45,-77.52 593.92,-84.36\"/>\n",
       "</g>\n",
       "<!-- 2535822717712exp&#45;&gt;2535822717712 -->\n",
       "<g id=\"edge2\" class=\"edge\">\n",
       "<title>2535822717712exp&#45;&gt;2535822717712</title>\n",
       "<path fill=\"none\" stroke=\"black\" d=\"M276.94,-110.51C284.47,-111.09 293.2,-111.77 302.48,-112.49\"/>\n",
       "<polygon fill=\"black\" stroke=\"black\" points=\"302.5,-116 312.74,-113.28 303.04,-109.02 302.5,-116\"/>\n",
       "</g>\n",
       "<!-- 2535822719296 -->\n",
       "<g id=\"node7\" class=\"node\">\n",
       "<title>2535822719296</title>\n",
       "<polygon fill=\"none\" stroke=\"black\" points=\"537,-0.5 537,-36.5 721,-36.5 721,-0.5 537,-0.5\"/>\n",
       "<text text-anchor=\"middle\" x=\"547\" y=\"-14.8\" font-family=\"Times New Roman,serif\" font-size=\"14.00\"> </text>\n",
       "<polyline fill=\"none\" stroke=\"black\" points=\"557,-0.5 557,-36.5\"/>\n",
       "<text text-anchor=\"middle\" x=\"597.5\" y=\"-14.8\" font-family=\"Times New Roman,serif\" font-size=\"14.00\">data 2.7183</text>\n",
       "<polyline fill=\"none\" stroke=\"black\" points=\"638,-0.5 638,-36.5\"/>\n",
       "<text text-anchor=\"middle\" x=\"679.5\" y=\"-14.8\" font-family=\"Times New Roman,serif\" font-size=\"14.00\">grad 0.2689</text>\n",
       "</g>\n",
       "<!-- 2535822608368* -->\n",
       "<g id=\"node12\" class=\"node\">\n",
       "<title>2535822608368*</title>\n",
       "<ellipse fill=\"none\" stroke=\"black\" cx=\"1318\" cy=\"-45.5\" rx=\"27\" ry=\"18\"/>\n",
       "<text text-anchor=\"middle\" x=\"1318\" y=\"-41.8\" font-family=\"Times New Roman,serif\" font-size=\"14.00\">*</text>\n",
       "</g>\n",
       "<!-- 2535822719296&#45;&gt;2535822608368* -->\n",
       "<g id=\"edge12\" class=\"edge\">\n",
       "<title>2535822719296&#45;&gt;2535822608368*</title>\n",
       "<path fill=\"none\" stroke=\"black\" d=\"M721.23,-22.09C874.38,-28.1 1176.63,-39.98 1280.75,-44.08\"/>\n",
       "<polygon fill=\"black\" stroke=\"black\" points=\"1280.63,-47.57 1290.76,-44.47 1280.91,-40.58 1280.63,-47.57\"/>\n",
       "</g>\n",
       "<!-- 2535822719296exp&#45;&gt;2535822719296 -->\n",
       "<g id=\"edge3\" class=\"edge\">\n",
       "<title>2535822719296exp&#45;&gt;2535822719296</title>\n",
       "<path fill=\"none\" stroke=\"black\" d=\"M276.94,-40.82C288.05,-40.1 301.16,-39.26 313,-38.5 384.36,-33.93 464.81,-28.83 526.55,-24.92\"/>\n",
       "<polygon fill=\"black\" stroke=\"black\" points=\"526.92,-28.4 536.68,-24.27 526.48,-21.41 526.92,-28.4\"/>\n",
       "</g>\n",
       "<!-- 2535822607264 -->\n",
       "<g id=\"node9\" class=\"node\">\n",
       "<title>2535822607264</title>\n",
       "<polygon fill=\"none\" stroke=\"black\" points=\"1071,-53.5 1071,-89.5 1255,-89.5 1255,-53.5 1071,-53.5\"/>\n",
       "<text text-anchor=\"middle\" x=\"1081\" y=\"-67.8\" font-family=\"Times New Roman,serif\" font-size=\"14.00\"> </text>\n",
       "<polyline fill=\"none\" stroke=\"black\" points=\"1091,-53.5 1091,-89.5\"/>\n",
       "<text text-anchor=\"middle\" x=\"1131.5\" y=\"-67.8\" font-family=\"Times New Roman,serif\" font-size=\"14.00\">data 0.2689</text>\n",
       "<polyline fill=\"none\" stroke=\"black\" points=\"1172,-53.5 1172,-89.5\"/>\n",
       "<text text-anchor=\"middle\" x=\"1213.5\" y=\"-67.8\" font-family=\"Times New Roman,serif\" font-size=\"14.00\">grad 2.7183</text>\n",
       "</g>\n",
       "<!-- 2535822607264&#45;&gt;2535822608368* -->\n",
       "<g id=\"edge11\" class=\"edge\">\n",
       "<title>2535822607264&#45;&gt;2535822608368*</title>\n",
       "<path fill=\"none\" stroke=\"black\" d=\"M1255.21,-56C1264.47,-54.43 1273.42,-52.91 1281.51,-51.53\"/>\n",
       "<polygon fill=\"black\" stroke=\"black\" points=\"1282.32,-54.94 1291.6,-49.82 1281.15,-48.04 1282.32,-54.94\"/>\n",
       "</g>\n",
       "<!-- 2535822607264**&#45;1&#45;&gt;2535822607264 -->\n",
       "<g id=\"edge4\" class=\"edge\">\n",
       "<title>2535822607264**&#45;1&#45;&gt;2535822607264</title>\n",
       "<path fill=\"none\" stroke=\"black\" d=\"M1035.3,-71.5C1042.83,-71.5 1051.52,-71.5 1060.75,-71.5\"/>\n",
       "<polygon fill=\"black\" stroke=\"black\" points=\"1060.95,-75 1070.95,-71.5 1060.95,-68 1060.95,-75\"/>\n",
       "</g>\n",
       "<!-- 2535822608368 -->\n",
       "<g id=\"node11\" class=\"node\">\n",
       "<title>2535822608368</title>\n",
       "<polygon fill=\"none\" stroke=\"black\" points=\"1381,-27.5 1381,-63.5 1565,-63.5 1565,-27.5 1381,-27.5\"/>\n",
       "<text text-anchor=\"middle\" x=\"1391\" y=\"-41.8\" font-family=\"Times New Roman,serif\" font-size=\"14.00\"> </text>\n",
       "<polyline fill=\"none\" stroke=\"black\" points=\"1401,-27.5 1401,-63.5\"/>\n",
       "<text text-anchor=\"middle\" x=\"1441.5\" y=\"-41.8\" font-family=\"Times New Roman,serif\" font-size=\"14.00\">data 0.7311</text>\n",
       "<polyline fill=\"none\" stroke=\"black\" points=\"1482,-27.5 1482,-63.5\"/>\n",
       "<text text-anchor=\"middle\" x=\"1523.5\" y=\"-41.8\" font-family=\"Times New Roman,serif\" font-size=\"14.00\">grad 1.0000</text>\n",
       "</g>\n",
       "<!-- 2535822608368*&#45;&gt;2535822608368 -->\n",
       "<g id=\"edge5\" class=\"edge\">\n",
       "<title>2535822608368*&#45;&gt;2535822608368</title>\n",
       "<path fill=\"none\" stroke=\"black\" d=\"M1345.3,-45.5C1352.83,-45.5 1361.52,-45.5 1370.75,-45.5\"/>\n",
       "<polygon fill=\"black\" stroke=\"black\" points=\"1370.95,-49 1380.95,-45.5 1370.95,-42 1370.95,-49\"/>\n",
       "</g>\n",
       "</g>\n",
       "</svg>\n"
      ],
      "text/plain": [
       "<graphviz.graphs.Digraph at 0x24e6acfc760>"
      ]
     },
     "execution_count": 12,
     "metadata": {},
     "output_type": "execute_result"
    }
   ],
   "source": [
    "a = Valor(1, rotulo=\"a\")\n",
    "b = a.sig()\n",
    "print(b)\n",
    "b.propagar_tudo()\n",
    "plota_grafo(b)"
   ]
  },
  {
   "cell_type": "markdown",
   "metadata": {},
   "source": [
    "## Conclusão\n",
    "\n"
   ]
  },
  {
   "cell_type": "markdown",
   "metadata": {},
   "source": [
    "## Playground\n",
    "\n"
   ]
  },
  {
   "cell_type": "code",
   "execution_count": null,
   "metadata": {},
   "outputs": [],
   "source": []
  },
  {
   "cell_type": "code",
   "execution_count": null,
   "metadata": {},
   "outputs": [],
   "source": []
  },
  {
   "cell_type": "code",
   "execution_count": null,
   "metadata": {},
   "outputs": [],
   "source": []
  },
  {
   "cell_type": "code",
   "execution_count": null,
   "metadata": {},
   "outputs": [],
   "source": []
  }
 ],
 "metadata": {
  "kernelspec": {
   "display_name": "ilumpy",
   "language": "python",
   "name": "ilumpy"
  },
  "language_info": {
   "codemirror_mode": {
    "name": "ipython",
    "version": 3
   },
   "file_extension": ".py",
   "mimetype": "text/x-python",
   "name": "python",
   "nbconvert_exporter": "python",
   "pygments_lexer": "ipython3",
   "version": "3.9.7"
  },
  "org": null
 },
 "nbformat": 4,
 "nbformat_minor": 4
}
