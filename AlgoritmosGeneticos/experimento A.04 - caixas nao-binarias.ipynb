{
 "cells": [
  {
   "cell_type": "markdown",
   "metadata": {},
   "source": [
    "Problema das caixas não-binárias\n",
    "================================\n",
    "\n"
   ]
  },
  {
   "cell_type": "markdown",
   "metadata": {},
   "source": [
    "## Objetivo\n",
    "\n"
   ]
  },
  {
   "cell_type": "markdown",
   "metadata": {},
   "source": [
    "Encontrar uma solução para o problema das caixas não-binárias usando um algoritmo genético. Considere 4 caixas. Considere que cada caixa pode ter um valor inteiro dentro do conjunto [0, 100].\n",
    "\n"
   ]
  },
  {
   "cell_type": "markdown",
   "metadata": {},
   "source": [
    "## Descrição do problema\n",
    "\n"
   ]
  },
  {
   "cell_type": "markdown",
   "metadata": {},
   "source": [
    "O problema das caixas não-binárias é simples: nós temos um certo número de caixas e cada uma pode conter um número inteiro. O objetivo é encontrar uma combinação de caixas onde a soma dos valores contidos dentro delas é máximo.\n",
    "\n"
   ]
  },
  {
   "cell_type": "markdown",
   "metadata": {},
   "source": [
    "## Importações\n",
    "\n"
   ]
  },
  {
   "cell_type": "code",
   "execution_count": 1,
   "metadata": {},
   "outputs": [],
   "source": [
    "from funcoes import populacao_cnb\n",
    "from funcoes import funcao_objetivo_pop_cnb as func_obj_pop\n",
    "from funcoes import selecao_roleta_max as funcao_selecao\n",
    "from funcoes import cruzamento_ponto_simples as funcao_cruzamento\n",
    "from funcoes import mutacao_cnb\n",
    "import random"
   ]
  },
  {
   "cell_type": "markdown",
   "metadata": {},
   "source": [
    "## Códigos e discussão\n",
    "\n"
   ]
  },
  {
   "cell_type": "code",
   "execution_count": 2,
   "metadata": {},
   "outputs": [],
   "source": [
    "# constantes\n",
    "TAMANHO_POP = 6\n",
    "NUM_GERACOES = 1000\n",
    "CHANCE_CRUZAMENTO = 0.5\n",
    "CHANCE_MUTADO = 0.05\n",
    "\n",
    "# relacionadas à caixas não binárias\n",
    "\n",
    "VALOR_MAX_CAIXA = 100\n",
    "NUM_GENES = 4"
   ]
  },
  {
   "cell_type": "code",
   "execution_count": 3,
   "metadata": {},
   "outputs": [],
   "source": [
    "# funções locais\n",
    "def cria_populacao_inicial(tamanho, n_genes):\n",
    "    return populacao_cnb(tamanho, n_genes, VALOR_MAX_CAIXA)\n",
    "def funcao_mutacao(individuo):\n",
    "    return mutacao_cnb(individuo, VALOR_MAX_CAIXA)"
   ]
  },
  {
   "cell_type": "code",
   "execution_count": 4,
   "metadata": {},
   "outputs": [
    {
     "name": "stdout",
     "output_type": "stream",
     "text": [
      "\n",
      "População inicial:\n",
      "[[27, 69, 51, 60], [42, 71, 23, 79], [85, 22, 21, 41], [86, 61, 50, 80], [15, 54, 20, 83], [65, 16, 86, 87]]\n",
      "\n",
      "População final:\n",
      "[[40, 100, 35, 88], [37, 100, 83, 88], [40, 100, 35, 88], [37, 100, 83, 88], [37, 100, 83, 88], [57, 88, 46, 21]]\n"
     ]
    }
   ],
   "source": [
    "populacao = cria_populacao_inicial(TAMANHO_POP, NUM_GENES)\n",
    "print()\n",
    "print('População inicial:')\n",
    "print(populacao)\n",
    "\n",
    "for n in range(NUM_GERACOES):\n",
    "    fitness = func_obj_pop(populacao)\n",
    "    populacao = funcao_selecao(populacao, fitness)\n",
    "    \n",
    "    pais = populacao[0::2]\n",
    "    maes = populacao[1::2]\n",
    "    \n",
    "    contador = 0\n",
    "    \n",
    "    for pai, mae in zip(pais, maes):\n",
    "        if random.random() <= CHANCE_CRUZAMENTO:\n",
    "            #vai acontecer cruzamento\n",
    "            filho1, filho2 = funcao_cruzamento(pai,mae)\n",
    "            populacao[contador] = filho1\n",
    "            populacao[contador+1] = filho2\n",
    "            \n",
    "        contador = contador+2\n",
    "\n",
    "    for n in range(len(populacao)):\n",
    "        if random.random() <= CHANCE_MUTADO:\n",
    "            individuo = populacao[n]\n",
    "            #print()\n",
    "            #print(individuo)\n",
    "            populacao[n] = funcao_mutacao(individuo)\n",
    "            #print(populacao[n])\n",
    "            #print()\n",
    "print()\n",
    "print('População final:')\n",
    "print(populacao)"
   ]
  },
  {
   "cell_type": "markdown",
   "metadata": {},
   "source": [
    "## Discussão\n",
    "Usamos o algoritmo genético para resolver o problema das caixas não binárias, ou seja, agora os genes podem ser diferentes de 0 ou 1. Escolhemos o range de 0 e 100 para cada gene.  \n",
    "\n",
    "Para poder usar as mesmas funções, estamos salvando todas elas em um arquivo .py que podem ser chamados depois. Outra estratégia que estamos usando é a de criar funções locais para poder adicionar variáveis as funções anteriores que já estão compondo nosso algoritmo genético, dessa maneira não precisamos mudá-las todas as vezes que uma função objetivo fica mais complexa, por exemplo.  \n",
    "\n",
    "Usamos 4 genes, ou caixas, para compor um indivíduo, ainda tivemos que escolher o número de gerações, chance de cruzamento, chance de mutação, apenas adicionamos o valor máximo de cada caixa, agora era 100. \n",
    "\n",
    "Nosso resultado ainda é probabilístico, tendo em vista que sabemos o valor máximo de fitness e ele não aparece (400, caso todos os genes fossem iguais a 100) além de que cada vez que rodamos o código um valor diferente aparecia para os indivíduos.\n",
    "\n",
    "# Conclusão\n",
    "\n",
    "Retomando o que fizemos nesse experimento. Neste problema, os genes podem ter valores diferentes de 0 ou 1, com um range de 0 a 100 para cada gene.Foram usadas quatro caixas para compor um indivíduo, com um número definido de gerações, chance de cruzamento e chance de mutação. \n",
    "\n",
    "Para simplificar o processo, todas as funções foram salvas em um arquivo .py para que pudessem ser chamadas depois. Além disso, foram usadas estratégias para criar funções locais e adicionar variáveis às funções existentes para tornar o processo mais eficiente.O resultado é probabilístico, já que o valor máximo de fitness não é conhecido e cada vez que o código é executado, um valor diferente aparece para os indivíduos."
   ]
  },
  {
   "cell_type": "markdown",
   "metadata": {},
   "source": [
    "## Playground\n",
    "\n"
   ]
  },
  {
   "cell_type": "code",
   "execution_count": null,
   "metadata": {},
   "outputs": [],
   "source": []
  }
 ],
 "metadata": {
  "kernelspec": {
   "display_name": "ilumpy",
   "language": "python",
   "name": "ilumpy"
  },
  "language_info": {
   "codemirror_mode": {
    "name": "ipython",
    "version": 3
   },
   "file_extension": ".py",
   "mimetype": "text/x-python",
   "name": "python",
   "nbconvert_exporter": "python",
   "pygments_lexer": "ipython3",
   "version": "3.9.7"
  },
  "org": null
 },
 "nbformat": 4,
 "nbformat_minor": 4
}
