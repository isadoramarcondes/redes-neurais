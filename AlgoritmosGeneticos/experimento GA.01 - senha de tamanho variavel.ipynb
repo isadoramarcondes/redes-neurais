{
 "cells": [
  {
   "cell_type": "markdown",
   "id": "75a13377-711c-4a96-9123-d3834d1885cd",
   "metadata": {},
   "source": [
    "experimento GA.01 - senha de tamanho variavel\n",
    "========================================\n",
    "\n"
   ]
  },
  {
   "cell_type": "markdown",
   "id": "af147241-51cc-4949-833d-146661739b9d",
   "metadata": {},
   "source": [
    "## Introdução\n",
    "\n"
   ]
  },
  {
   "cell_type": "markdown",
   "id": "389bb8d4-f757-468d-b26c-36d03a3404b3",
   "metadata": {},
   "source": [
    "Delete este texto e escreva uma breve introdução sobre seu experimento.\n",
    "\n"
   ]
  },
  {
   "cell_type": "markdown",
   "id": "edf7257b-9622-4f1e-90c4-023ef1b62509",
   "metadata": {},
   "source": [
    "## Objetivo\n",
    "\n"
   ]
  },
  {
   "cell_type": "markdown",
   "id": "3c97f086-2e4b-4f31-9c51-3fe3f0cc3ae8",
   "metadata": {},
   "source": [
    "**Objetivo**: Resolver o problema da senha sem fornecer a informação do tamanho da senha para a função que gera a população.\n",
    "\n",
    "**Dica**: A função objetivo terá que quantificar em sua métrica tanto se o candidato acertou as letras quanto se acertou o tamanho da senha."
   ]
  },
  {
   "cell_type": "markdown",
   "id": "5bb1f9f4-083d-4925-bc05-6260a85c14c1",
   "metadata": {},
   "source": [
    "## Importações\n",
    "\n"
   ]
  },
  {
   "cell_type": "markdown",
   "id": "7cd5ca97-2ddb-43f5-9ab0-4bde1cf2b65f",
   "metadata": {},
   "source": [
    "Todos os comandos de `import` devem estar dentro desta seção.\n",
    "\n"
   ]
  },
  {
   "cell_type": "code",
   "execution_count": 1,
   "id": "9d77e3a0-b63f-4c48-a296-ab44f8f64663",
   "metadata": {},
   "outputs": [],
   "source": [
    "from funcoes import populacao_inicial_senha_variavel\n",
    "from funcoes import funcao_objetivo_pop_senha_variavel\n",
    "from funcoes import selecao_torneio_min\n",
    "from funcoes import cruzamento_ponto_senha_variavel as funcao_cruzamento\n",
    "from funcoes import mutacao_senha_variavel_tamanho\n",
    "from funcoes import mutacao_senha\n",
    "from funcoes import gene_letra\n",
    "import random"
   ]
  },
  {
   "cell_type": "markdown",
   "id": "213226af-30a2-4950-b5cd-f5ba2e209973",
   "metadata": {
    "tags": []
   },
   "source": [
    "## Códigos e discussão\n",
    "\n"
   ]
  },
  {
   "cell_type": "code",
   "execution_count": 2,
   "id": "3b993c77-387b-42f4-ab4c-f66a89bba148",
   "metadata": {},
   "outputs": [],
   "source": [
    "### CONSTANTES\n",
    "\n",
    "# relacionadas à busca\n",
    "TAMANHO_POP = 10\n",
    "NUM_GERACOES = 1000\n",
    "CHANCE_CRUZAMENTO = 0.5\n",
    "CHANCE_MUTACAO = 0.5\n",
    "NUM_COMBATENTES_NO_TORNEIO = 2\n",
    "\n",
    "# relacionadas ao problema a ser resulvido\n",
    "MAXIMO = 100\n",
    "PESO_PENALIDADE = 60\n",
    "SENHA = \"isalindadmsgatona\" # o que estou tentando descobrir\n",
    "LETRAS_POSSIVEIS = \"abcdefghijklmnopqrstuvwxyz\" # todas letras que podem estar na minha senha\n",
    "# NUM_GENES = len(SENHA)"
   ]
  },
  {
   "cell_type": "code",
   "execution_count": 3,
   "id": "d3116d56-34a4-4c49-9ec1-b61b51bf6ba6",
   "metadata": {},
   "outputs": [],
   "source": [
    "# funções locais\n",
    "\n",
    "def cria_populacao_inicial(tamanho, tamanho_senha):\n",
    "    return populacao_inicial_senha_variavel(TAMANHO_POP, MAXIMO, LETRAS_POSSIVEIS) #usa um tamanho máximo chute \n",
    "\n",
    "def funcao_objetivo_pop(populacao):\n",
    "    return funcao_objetivo_pop_senha_variavel(populacao, SENHA , PESO_PENALIDADE)\n",
    "\n",
    "def funcao_selecao(populacao, fitness):\n",
    "    return selecao_torneio_min(populacao, fitness, tamanho_torneio=6)\n",
    "\n",
    "#def funcao_mutacao(individuo):\n",
    "#    return mutacao_senha(individuo, LETRAS_POSSIVEIS)\n",
    "\n",
    "def funcao_mutacao(individuo):\n",
    "    return mutacao_senha_variavel_tamanho(individuo, LETRAS_POSSIVEIS)"
   ]
  },
  {
   "cell_type": "code",
   "execution_count": 4,
   "id": "31fb3ff6-1dc4-46a9-b969-f209646358f5",
   "metadata": {},
   "outputs": [
    {
     "name": "stdout",
     "output_type": "stream",
     "text": [
      "Progresso da melhor senha já vista:\n",
      "dwnjsskskhjtfljliy - fitness: 186\n",
      "dwnjsskskhjkfljliy - fitness: 177\n",
      "dwnjqskskhjkfljliy - fitness: 175\n",
      "dwnjmskskhjkfljliy - fitness: 171\n",
      "dwnjmskskhjkfljli - fitness: 111\n",
      "dwnjjskskhskfljli - fitness: 99\n",
      "dwnjjsknkhskfljli - fitness: 94\n",
      "dwnjjsknkiskfljli - fitness: 93\n",
      "dwijjsknkhskfljli - fitness: 89\n",
      "dwijjsbnkhskfljli - fitness: 84\n",
      "dwimjsbnkhskfljli - fitness: 83\n",
      "dsimjsbnkhukfljli - fitness: 81\n",
      "dsimjsbnkhukfrjli - fitness: 75\n",
      "dsimjsbnkhukfrjld - fitness: 70\n",
      "dsimjsbgkhukfrjld - fitness: 63\n",
      "dsimjnbnkhukfrmld - fitness: 62\n",
      "dsimjnbnkhukfsmld - fitness: 61\n",
      "dsimjnbnkhujfsmld - fitness: 60\n",
      "dsimjnbekhujfsmld - fitness: 51\n",
      "jzgljngeenshfthrh - fitness: 48\n",
      "jzgljngeenshfthoh - fitness: 45\n",
      "jzgljngeenshfthnh - fitness: 44\n",
      "jzgljneeenshfthnh - fitness: 42\n",
      "jzgljneeenshfthnd - fitness: 38\n",
      "jzaljneeenshfthnh - fitness: 36\n",
      "jwaljneeensjfthnh - fitness: 35\n",
      "jzaljneeenshfttnh - fitness: 34\n",
      "jpaljneeenujftmnh - fitness: 31\n",
      "jpaljneeensjftmnh - fitness: 29\n",
      "jpaljneeensgftmnh - fitness: 26\n",
      "jpaljneeensgftmnd - fitness: 22\n",
      "jpaljneeensgftmna - fitness: 19\n",
      "jpaljnedensgftmna - fitness: 18\n",
      "jpaljnedemsgatmoa - fitness: 13\n",
      "italindaemmgatnmb - fitness: 11\n",
      "italingaemsgatnna - fitness: 6\n",
      "isaljmeadmshatoma - fitness: 5\n",
      "isaljndbdmshatoma - fitness: 4\n",
      "isamindacmsgbtona - fitness: 3\n",
      "jsalineadmsgatona - fitness: 2\n",
      "isaliodadmsgatona - fitness: 1\n",
      "isalindadmsgatona - fitness: 0\n",
      "\n",
      "Melhor palpite da senha encontrado:\n",
      "isalindadmsgatona\n"
     ]
    }
   ],
   "source": [
    "populacao = populacao_inicial_senha_variavel(TAMANHO_POP, MAXIMO, LETRAS_POSSIVEIS)\n",
    "\n",
    "melhor_fitness_ja_visto = float(\"inf\")  # é assim que escrevemos infinito em python\n",
    "                        # assim, o primeiro indivíduo já substituirá, \n",
    "                        # pois vai ser melhor que infinito\n",
    "\n",
    "print(\"Progresso da melhor senha já vista:\")\n",
    "\n",
    "while melhor_fitness_ja_visto != 0:\n",
    "    \n",
    "    # Seleção\n",
    "    fitness = funcao_objetivo_pop(populacao)\n",
    "    populacao = funcao_selecao(populacao, fitness)\n",
    "    \n",
    "    # Cruzamento\n",
    "    pais = populacao[0::2] # os pais vão pares (em númros cardinais)\n",
    "    maes = populacao[1::2] # as mães serão ímpares\n",
    "    \n",
    "    contador = 0\n",
    "    \n",
    "    for pai, mae in zip(pais, maes):\n",
    "        if random.random() <= CHANCE_CRUZAMENTO:\n",
    "            filho1, filho2 = funcao_cruzamento(pai, mae)\n",
    "            populacao[contador] = filho1\n",
    "            populacao[contador + 1] = filho2\n",
    "            \n",
    "        contador = contador + 2   \n",
    "        \n",
    "    # Mutação\n",
    "    for n in range(len(populacao)):\n",
    "        if random.random() <= CHANCE_MUTACAO:\n",
    "            individuo = populacao[n]\n",
    "            populacao[n] = funcao_mutacao(individuo)\n",
    "            \n",
    "\n",
    "    # melhor individuo já visto até agora\n",
    "    fitness = funcao_objetivo_pop(populacao)\n",
    "    menor_fitness = min(fitness)\n",
    "    \n",
    "    if menor_fitness < melhor_fitness_ja_visto:        \n",
    "        posicao = fitness.index(menor_fitness)\n",
    "        melhor_individuo_ja_visto = populacao[posicao]\n",
    "        melhor_fitness_ja_visto = menor_fitness\n",
    "        \n",
    "        print(\"\".join(melhor_individuo_ja_visto), \"- fitness:\", melhor_fitness_ja_visto)\n",
    "\n",
    "print()\n",
    "print(\"Melhor palpite da senha encontrado:\")\n",
    "print(\"\".join(melhor_individuo_ja_visto))"
   ]
  },
  {
   "cell_type": "markdown",
   "id": "6120b660-965c-4948-94fc-b965637598b2",
   "metadata": {},
   "source": [
    "## Conclusão\n",
    "\n"
   ]
  },
  {
   "cell_type": "markdown",
   "id": "7ee42f92-575e-42c0-ba23-2e441b7a06ab",
   "metadata": {},
   "source": [
    "Eu usei o mesmo escopo das funções para o código de descobrir senha, mudei que ao invés de chutar uma senha com o mesmo tamanho, eu defini um número máximo de letras que ele poderia chutar, então tive que criar uma função mutação que arrumava tanto o número de letras quanto quais letras eram.\n",
    "Não precisei mudar nada no algoritmo genético pois escolhi fazer uma única função de mutação que fazia os dois ajustes ao mesmo tempo, porém se eu quisese duas funções de mutação eu teria que mudar o algoritmo.\n",
    "Esse código é muito lento, demora muito para descobrir a senha e eu não consegui fazer com que ele descobrisse senhas muito grandes, testei com no máximo 17 letras, ainda sim tive que ajustar a função objetivo para atribuir uma distância quadrática quanto ao tamanho da senha, se não ele não diminuia."
   ]
  },
  {
   "cell_type": "markdown",
   "id": "c3831d49-7e5f-4439-b7ce-1e42b3e618b4",
   "metadata": {},
   "source": [
    "## Playground\n",
    "\n"
   ]
  },
  {
   "cell_type": "markdown",
   "id": "298ca356-2e3e-4dd4-9c4c-13e01f3b6b26",
   "metadata": {},
   "source": [
    "Todo código de teste que não faz parte do seu experimento deve vir aqui. Este código não será considerado na avaliação.\n",
    "\n"
   ]
  },
  {
   "cell_type": "code",
   "execution_count": 5,
   "id": "96a09b2d-c47a-4392-a2e1-a0d7296a1d05",
   "metadata": {},
   "outputs": [
    {
     "name": "stdout",
     "output_type": "stream",
     "text": [
      "O caractere 'a' converte para o número 97\n",
      "O caractere 'b' converte para o número 98\n",
      "O caractere 'c' converte para o número 99\n",
      "O caractere 'd' converte para o número 100\n",
      "O caractere 'e' converte para o número 101\n",
      "O caractere 'f' converte para o número 102\n",
      "O caractere 'g' converte para o número 103\n",
      "O caractere 'h' converte para o número 104\n",
      "O caractere 'i' converte para o número 105\n",
      "O caractere 'z' converte para o número 122\n"
     ]
    }
   ],
   "source": [
    "caracteres = [\"a\", \"b\", \"c\", \"d\", \"e\", \"f\", \"g\", \"h\", \"i\", \"z\"]\n",
    "\n",
    "for caractere in caracteres:\n",
    "    numero = ord(caractere)\n",
    "    print(f\"O caractere '{caractere}' converte para o número {numero}\")"
   ]
  },
  {
   "cell_type": "code",
   "execution_count": 6,
   "id": "6dbc555d-8f85-4d9a-a727-c3327c8d2f9f",
   "metadata": {},
   "outputs": [
    {
     "name": "stdout",
     "output_type": "stream",
     "text": [
      "['s', 'a', 'b', 'c', 'd']\n"
     ]
    }
   ],
   "source": [
    "individuo = ['a','b','c','d']\n",
    "gene = random.randint(0, len(individuo) - 1)\n",
    "individuo.insert(gene, gene_letra(LETRAS_POSSIVEIS))\n",
    "print(individuo)"
   ]
  }
 ],
 "metadata": {
  "kernelspec": {
   "display_name": "ilumpy",
   "language": "python",
   "name": "ilumpy"
  },
  "language_info": {
   "codemirror_mode": {
    "name": "ipython",
    "version": 3
   },
   "file_extension": ".py",
   "mimetype": "text/x-python",
   "name": "python",
   "nbconvert_exporter": "python",
   "pygments_lexer": "ipython3",
   "version": "3.9.7"
  }
 },
 "nbformat": 4,
 "nbformat_minor": 5
}
