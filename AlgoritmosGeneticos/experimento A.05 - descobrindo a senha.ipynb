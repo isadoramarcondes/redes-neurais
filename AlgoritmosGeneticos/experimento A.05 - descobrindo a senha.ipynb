{
 "cells": [
  {
   "cell_type": "markdown",
   "metadata": {},
   "source": [
    "Descobrindo a senha\n",
    "===================\n",
    "\n"
   ]
  },
  {
   "cell_type": "markdown",
   "metadata": {},
   "source": [
    "## Objetivo\n",
    "\n"
   ]
  },
  {
   "cell_type": "markdown",
   "metadata": {},
   "source": [
    "Usar um algoritmo genético para descobrir uma senha.\n",
    "\n"
   ]
  },
  {
   "cell_type": "markdown",
   "metadata": {},
   "source": [
    "## Descrição do problema\n",
    "\n"
   ]
  },
  {
   "cell_type": "markdown",
   "metadata": {},
   "source": [
    "Neste problema, a função objetivo deve saber a senha correta e quantificar de alguma maneira o quão perto ou longe os palpites estão da solução (veja que isso é algo que não temos no mundo real. Nenhum site irá te dizer se você está acertando ou errando seu palpite). O critério de parada deste problema é quando a senha for descoberta.\n",
    "\n"
   ]
  },
  {
   "cell_type": "markdown",
   "metadata": {
    "tags": []
   },
   "source": [
    "## Importações\n",
    "\n"
   ]
  },
  {
   "cell_type": "code",
   "execution_count": 1,
   "metadata": {},
   "outputs": [],
   "source": [
    "from funcoes import populacao_inicial_senha\n",
    "from funcoes import funcao_objetivo_pop_senha\n",
    "from funcoes import selecao_torneio_min\n",
    "from funcoes import cruzamento_ponto_simples as funcao_cruzamento\n",
    "from funcoes import mutacao_senha\n",
    "import random"
   ]
  },
  {
   "cell_type": "markdown",
   "metadata": {},
   "source": [
    "## Códigos e discussão\n",
    "\n"
   ]
  },
  {
   "cell_type": "code",
   "execution_count": 2,
   "metadata": {},
   "outputs": [],
   "source": [
    "### CONSTANTES\n",
    "\n",
    "# relacionadas à busca\n",
    "TAMANHO_POP = 50\n",
    "NUM_GERACOES = 2000\n",
    "CHANCE_CRUZAMENTO = 0.5\n",
    "CHANCE_MUTACAO = 0.05\n",
    "NUM_COMBATENTES_NO_TORNEIO = 3\n",
    "\n",
    "# relacionadas ao problema a ser resulvido\n",
    "SENHA = \"correcthorsebatterystaple\" # o que estou tentando descobrir\n",
    "LETRAS_POSSIVEIS = \"abcdefghijklmnopqrstuvwxyz\" # todas letras que podem estar na minha senha\n",
    "NUM_GENES = len(SENHA)"
   ]
  },
  {
   "cell_type": "code",
   "execution_count": 3,
   "metadata": {},
   "outputs": [],
   "source": [
    "# funções locais\n",
    "\n",
    "def cria_populacao_inicial(tamanho, tamanho_senha):\n",
    "    return populacao_inicial_senha(tamanho, tamanho_senha, LETRAS_POSSIVEIS)\n",
    "\n",
    "def funcao_objetivo_pop(populacao):\n",
    "    return funcao_objetivo_pop_senha(populacao, SENHA)\n",
    "\n",
    "def funcao_selecao(populacao, fitness):\n",
    "    return selecao_torneio_min(populacao, fitness, NUM_COMBATENTES_NO_TORNEIO)\n",
    "\n",
    "def funcao_mutacao(individuo):\n",
    "    return mutacao_senha(individuo, LETRAS_POSSIVEIS)"
   ]
  },
  {
   "cell_type": "code",
   "execution_count": 4,
   "metadata": {},
   "outputs": [
    {
     "name": "stdout",
     "output_type": "stream",
     "text": [
      "Progresso da melhor senha já vista:\n",
      "hkdractgcogntgpzsztpkbtfd - fitness: 149\n",
      "awiyadsiizrjkcfybtdlijtpf - fitness: 145\n",
      "awiyadsiizrjrjpqfnwtdhmdc - fitness: 129\n",
      "awiyadsiizrjrjpqfntiobjkj - fitness: 123\n",
      "hkdractgcorjkjpqfnwtdhmdc - fitness: 118\n",
      "awiyadsiizrjkjpqfntiobjkj - fitness: 116\n",
      "awiyadsiizrjkcpqfnwtdhmdc - fitness: 115\n",
      "akdractgcorjkcpqfnwtdhmpf - fitness: 103\n",
      "akdractgcorjkcpqfnwtlhmpf - fitness: 95\n",
      "akdractgcorjkcpqfnwtkbmpf - fitness: 90\n",
      "awtyadsiiurjkcpqfnwtkbmpf - fitness: 85\n",
      "akdractgiurjkcpqfnwtkbmpf - fitness: 84\n",
      "awtyactgiurjkcpqfnwtkbmpf - fitness: 83\n",
      "awtyactgiurjkcpqfnwtlbmpf - fitness: 82\n",
      "altyactgiurjkcpqfnwtkbmpf - fitness: 78\n",
      "awtyactgiurjbcpqfnwtkbmpf - fitness: 74\n",
      "altyactgiurjbcpqfnwtkbmpf - fitness: 69\n",
      "altyactgturjbcpqfnwtkbmpf - fitness: 68\n",
      "altyactgiurdbcpqfnwtkbmpf - fitness: 65\n",
      "altyactgiurdbcpqfnxtkbmpf - fitness: 64\n",
      "altyactgturdbcpqfnxtkbmpf - fitness: 63\n",
      "altyactgourdbcpqfnxtkbmpf - fitness: 58\n",
      "cltyfctgturdbcpqenxtkbmpf - fitness: 57\n",
      "cltofctgturdbcpqenxtkbmpf - fitness: 53\n",
      "cltofctgturdbcpqenxtkbmjf - fitness: 51\n",
      "cltofctgturdbcpuenxtkbmjf - fitness: 49\n",
      "cltofctgturdbctqenxtkbmjf - fitness: 47\n",
      "cltofctgturdbcuuenxtkbmjf - fitness: 46\n",
      "cltofctgturdbctuenxtkbmjf - fitness: 45\n",
      "cltofctgturdbctuenxtlbmjf - fitness: 44\n",
      "cltofctgturebctuenxtlbmjf - fitness: 43\n",
      "cltofctgturebctuenxslbmjf - fitness: 42\n",
      "cltofctgturebctuesxtlbmjf - fitness: 40\n",
      "cltofctgturebctuenxssbmjf - fitness: 35\n",
      "cltofctgturebctuesxssbmjf - fitness: 32\n",
      "clrofctgturebctuesxssbmjf - fitness: 30\n",
      "clrofctgturebatuesxssbmjf - fitness: 28\n",
      "clrtfctgturebatuesxssbmjf - fitness: 27\n",
      "clrtfctgturebatuesxstbmjf - fitness: 26\n",
      "clrtfctgnurebatuesxstbmjf - fitness: 22\n",
      "cprtfctgnurebatuesxstbmjf - fitness: 20\n",
      "cprtfctgnurebattesxstbmjf - fitness: 19\n",
      "cprtfctgnurebatterxstbmjf - fitness: 18\n",
      "cprtfctgnurebatterxstbmmf - fitness: 17\n",
      "cprtfctgnurebatterxstbqjf - fitness: 16\n",
      "cprtfctgourebatterxstbmlf - fitness: 15\n",
      "cprtfctgourebatterystbmlf - fitness: 14\n",
      "cprtfctgourebatterystbmle - fitness: 13\n",
      "cprtfctgourebatterystbple - fitness: 10\n",
      "cprtfctgorrebatterystbple - fitness: 7\n",
      "cprsfctgorrebatterystbple - fitness: 6\n",
      "cprsfctgorrebatterystaple - fitness: 5\n",
      "corsfctgorrebatterystaple - fitness: 4\n",
      "corsfcthorrebatterystaple - fitness: 3\n",
      "corsfcthorsebatterystaple - fitness: 2\n",
      "corsecthorsebatterystaple - fitness: 1\n",
      "correcthorsebatterystaple - fitness: 0\n",
      "\n",
      "Melhor palpite da senha encontrado:\n",
      "correcthorsebatterystaple\n"
     ]
    }
   ],
   "source": [
    "populacao = cria_populacao_inicial(TAMANHO_POP, NUM_GENES)\n",
    "\n",
    "melhor_fitness_ja_visto = float(\"inf\")  # é assim que escrevemos infinito em python\n",
    "                        # assim, o primeiro indivíduo já substituirá, \n",
    "                        # pois vai ser melhor que infinito\n",
    "\n",
    "print(\"Progresso da melhor senha já vista:\")\n",
    "\n",
    "while melhor_fitness_ja_visto != 0:\n",
    "    \n",
    "    # Seleção\n",
    "    fitness = funcao_objetivo_pop(populacao)\n",
    "    populacao = funcao_selecao(populacao, fitness)\n",
    "    \n",
    "    # Cruzamento\n",
    "    pais = populacao[0::2] # os pais vão pares (em númros cardinais)\n",
    "    maes = populacao[1::2] # as mães serão ímpares\n",
    "    \n",
    "    contador = 0\n",
    "    \n",
    "    for pai, mae in zip(pais, maes):\n",
    "        if random.random() <= CHANCE_CRUZAMENTO:\n",
    "            filho1, filho2 = funcao_cruzamento(pai, mae)\n",
    "            populacao[contador] = filho1\n",
    "            populacao[contador + 1] = filho2\n",
    "        \n",
    "        contador = contador + 2   \n",
    "        \n",
    "    # Mutação\n",
    "    for n in range(len(populacao)):\n",
    "        if random.random() <= CHANCE_MUTACAO:\n",
    "            individuo = populacao[n]\n",
    "            populacao[n] = funcao_mutacao(individuo)            \n",
    "            \n",
    "    # melhor individuo já visto até agora\n",
    "    fitness = funcao_objetivo_pop(populacao)\n",
    "    menor_fitness = min(fitness)\n",
    "    \n",
    "    if menor_fitness < melhor_fitness_ja_visto:        \n",
    "        posicao = fitness.index(menor_fitness)\n",
    "        melhor_individuo_ja_visto = populacao[posicao]\n",
    "        melhor_fitness_ja_visto = menor_fitness\n",
    "        \n",
    "        print(\"\".join(melhor_individuo_ja_visto), \"- fitness:\", melhor_fitness_ja_visto)\n",
    "\n",
    "print()\n",
    "print(\"Melhor palpite da senha encontrado:\")\n",
    "print(\"\".join(melhor_individuo_ja_visto))"
   ]
  },
  {
   "cell_type": "markdown",
   "metadata": {},
   "source": [
    "## Conclusão\n",
    "\n"
   ]
  },
  {
   "cell_type": "markdown",
   "metadata": {},
   "source": [
    "Esse é um pro\n",
    "\n",
    "Assim resolvemos o problema que descobre as senhas em uma situação ótima, ou seja, sabemos a senha real, seu tamanho. Com essas informações, usamos o algoritmo genético para aproximar nossos chutes de senha aos valores reais da senha, calculando o fitness de minimização da distância das letras de ordem correspondente."
   ]
  },
  {
   "cell_type": "markdown",
   "metadata": {},
   "source": [
    "## Playground\n",
    "\n"
   ]
  },
  {
   "cell_type": "code",
   "execution_count": null,
   "metadata": {},
   "outputs": [],
   "source": []
  }
 ],
 "metadata": {
  "kernelspec": {
   "display_name": "ilumpy",
   "language": "python",
   "name": "ilumpy"
  },
  "language_info": {
   "codemirror_mode": {
    "name": "ipython",
    "version": 3
   },
   "file_extension": ".py",
   "mimetype": "text/x-python",
   "name": "python",
   "nbconvert_exporter": "python",
   "pygments_lexer": "ipython3",
   "version": "3.9.7"
  },
  "org": null
 },
 "nbformat": 4,
 "nbformat_minor": 4
}
