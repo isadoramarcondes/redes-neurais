{
 "cells": [
  {
   "cell_type": "markdown",
   "metadata": {},
   "source": [
    "Descobrindo a senha\n",
    "===================\n",
    "\n"
   ]
  },
  {
   "cell_type": "markdown",
   "metadata": {},
   "source": [
    "## Objetivo\n",
    "\n"
   ]
  },
  {
   "cell_type": "markdown",
   "metadata": {},
   "source": [
    "Usar um algoritmo genético para descobrir uma senha.\n",
    "\n"
   ]
  },
  {
   "cell_type": "markdown",
   "metadata": {},
   "source": [
    "## Descrição do problema\n",
    "\n"
   ]
  },
  {
   "cell_type": "markdown",
   "metadata": {},
   "source": [
    "Neste problema, a função objetivo deve saber a senha correta e quantificar de alguma maneira o quão perto ou longe os palpites estão da solução (veja que isso é algo que não temos no mundo real. Nenhum site irá te dizer se você está acertando ou errando seu palpite). O critério de parada deste problema é quando a senha for descoberta.\n",
    "\n"
   ]
  },
  {
   "cell_type": "markdown",
   "metadata": {
    "tags": []
   },
   "source": [
    "## Importações\n",
    "\n"
   ]
  },
  {
   "cell_type": "code",
   "execution_count": 1,
   "metadata": {},
   "outputs": [],
   "source": [
    "from funcoes import populacao_inicial_senha\n",
    "from funcoes import funcao_objetivo_pop_senha\n",
    "from funcoes import selecao_torneio_min\n",
    "from funcoes import cruzamento_ponto_simples as funcao_cruzamento\n",
    "from funcoes import mutacao_senha\n",
    "import random"
   ]
  },
  {
   "cell_type": "markdown",
   "metadata": {},
   "source": [
    "## Códigos e discussão\n",
    "\n"
   ]
  },
  {
   "cell_type": "code",
   "execution_count": 2,
   "metadata": {},
   "outputs": [],
   "source": [
    "### CONSTANTES\n",
    "\n",
    "# relacionadas à busca\n",
    "TAMANHO_POP = 50\n",
    "NUM_GERACOES = 2000\n",
    "CHANCE_CRUZAMENTO = 0.5\n",
    "CHANCE_MUTACAO = 0.05\n",
    "NUM_COMBATENTES_NO_TORNEIO = 3\n",
    "\n",
    "# relacionadas ao problema a ser resulvido\n",
    "SENHA = \"correcthorsebatterystaple\" # o que estou tentando descobrir\n",
    "LETRAS_POSSIVEIS = \"abcdefghijklmnopqrstuvwxyz\" # todas letras que podem estar na minha senha\n",
    "NUM_GENES = len(SENHA)"
   ]
  },
  {
   "cell_type": "code",
   "execution_count": 3,
   "metadata": {},
   "outputs": [],
   "source": [
    "# funções locais\n",
    "\n",
    "def cria_populacao_inicial(tamanho, tamanho_senha):\n",
    "    return populacao_inicial_senha(tamanho, tamanho_senha, LETRAS_POSSIVEIS)\n",
    "\n",
    "def funcao_objetivo_pop(populacao):\n",
    "    return funcao_objetivo_pop_senha(populacao, SENHA)\n",
    "\n",
    "def funcao_selecao(populacao, fitness):\n",
    "    return selecao_torneio_min(populacao, fitness, NUM_COMBATENTES_NO_TORNEIO)\n",
    "\n",
    "def funcao_mutacao(individuo):\n",
    "    return mutacao_senha(individuo, LETRAS_POSSIVEIS)"
   ]
  },
  {
   "cell_type": "code",
   "execution_count": 4,
   "metadata": {},
   "outputs": [
    {
     "name": "stdout",
     "output_type": "stream",
     "text": [
      "Progresso da melhor senha já vista:\n",
      "fmssfdurlrcokqlsgoujggmqe - fitness: 128\n",
      "dqssfdurlrcokqlsgoujggmqe - fitness: 126\n",
      "hwssfdurqmtlanityrrpogmqe - fitness: 117\n",
      "dqssfdqlqjtlanityrrpogmqe - fitness: 106\n",
      "dqssfdurlrtlanitgoujggmqe - fitness: 99\n",
      "dqssfdurlrtlanitgoujogmqe - fitness: 91\n",
      "dqssfdurlrtlanitgorpogmqe - fitness: 88\n",
      "dqssfdumlrtlanitgorpogmqe - fitness: 83\n",
      "dqssfdumlrtlaniteorpogmqe - fitness: 81\n",
      "dqssfdumlrtlaniteorptgmqe - fitness: 76\n",
      "dqssfduglrtkaniteortognqe - fitness: 73\n",
      "dqssfduglrtkaniteortocnqe - fitness: 69\n",
      "dqssfduglrtaaniteortognje - fitness: 68\n",
      "dqssfduglrtaaniteortocnqe - fitness: 67\n",
      "dqssfcuglrtaaniteortocnqe - fitness: 66\n",
      "dqssfcuglrtaaniteortpcnqe - fitness: 65\n",
      "dqssfcuglrtaaniteostpcnqe - fitness: 64\n",
      "dqssfduglrtaabiteortocnqe - fitness: 55\n",
      "dqssfduglrtaabiteostpcnqe - fitness: 53\n",
      "dqssfcuglrtaabiteostpcnqe - fitness: 52\n",
      "dpssfcuglrtaabiteostpcnqe - fitness: 51\n",
      "dpssfcuglrtaabiteostpcqqe - fitness: 50\n",
      "dpssfcuglrtaaboteostpcnqe - fitness: 45\n",
      "dpssfcuglrtaaboteostpcqqe - fitness: 44\n",
      "dpssfcuglrtaaboterstpcnqe - fitness: 42\n",
      "dpssfcuglrtaaboteostpcqje - fitness: 41\n",
      "dpssfcuglrtaaboterstrcqqe - fitness: 39\n",
      "dpssfcuglrtaaboterstucqqe - fitness: 38\n",
      "dpssfcugnrtaaboterstucqqe - fitness: 36\n",
      "dpssfcugnrtaabsterstucqqe - fitness: 32\n",
      "dpssfcugnrtfabsterstucqqe - fitness: 29\n",
      "dpssfcugnrtfabsterstucqoe - fitness: 27\n",
      "dpssfcugnrtfabsterxtucqoe - fitness: 22\n",
      "dpssfcugnrtfabsterxtucqle - fitness: 19\n",
      "dpssfcugnrtfbbsterxtucqle - fitness: 18\n",
      "dpssfcugnrtfbbtterxtucqle - fitness: 17\n",
      "dpssfcugnrtfbbtterytucqle - fitness: 16\n",
      "dpssfctgnrtfbbtterytucqle - fitness: 15\n",
      "dpssfctgnrtfbbtterysucqle - fitness: 14\n",
      "dpssfcthnrtfbbtterysucqle - fitness: 13\n",
      "dpssfcthnrtfbbtterysubqle - fitness: 12\n",
      "dpssfcthnrtfbbtterysuaqle - fitness: 11\n",
      "dpssfcthnrtfbbtterysuaple - fitness: 10\n",
      "dpssecthnrtfbbtterysuaple - fitness: 9\n",
      "dpssecthortfbbtterysuaple - fitness: 8\n",
      "dprsecthortfbbtterysuaple - fitness: 7\n",
      "dprsecthortfbatterysuaple - fitness: 6\n",
      "dprsecthortebatterysuaple - fitness: 5\n",
      "dorsecthortebatterysuaple - fitness: 4\n",
      "dorsecthortebatterystaple - fitness: 3\n",
      "dorsecthorsebatterystaple - fitness: 2\n",
      "corsecthorsebatterystaple - fitness: 1\n",
      "correcthorsebatterystaple - fitness: 0\n",
      "\n",
      "Melhor palpite da senha encontrado:\n",
      "correcthorsebatterystaple\n"
     ]
    }
   ],
   "source": [
    "populacao = cria_populacao_inicial(TAMANHO_POP, NUM_GENES)\n",
    "\n",
    "melhor_fitness_ja_visto = float(\"inf\")  # é assim que escrevemos infinito em python\n",
    "                        # assim, o primeiro indivíduo já substituirá, \n",
    "                        # pois vai ser melhor que infinito\n",
    "\n",
    "print(\"Progresso da melhor senha já vista:\")\n",
    "\n",
    "while melhor_fitness_ja_visto != 0:\n",
    "    \n",
    "    # Seleção\n",
    "    fitness = funcao_objetivo_pop(populacao)\n",
    "    populacao = funcao_selecao(populacao, fitness)\n",
    "    \n",
    "    # Cruzamento\n",
    "    pais = populacao[0::2] # os pais vão pares (em númros cardinais)\n",
    "    maes = populacao[1::2] # as mães serão ímpares\n",
    "    \n",
    "    contador = 0\n",
    "    \n",
    "    for pai, mae in zip(pais, maes):\n",
    "        if random.random() <= CHANCE_CRUZAMENTO:\n",
    "            filho1, filho2 = funcao_cruzamento(pai, mae)\n",
    "            populacao[contador] = filho1\n",
    "            populacao[contador + 1] = filho2\n",
    "        \n",
    "        contador = contador + 2   \n",
    "        \n",
    "    # Mutação\n",
    "    for n in range(len(populacao)):\n",
    "        if random.random() <= CHANCE_MUTACAO:\n",
    "            individuo = populacao[n]\n",
    "            populacao[n] = funcao_mutacao(individuo)            \n",
    "            \n",
    "    # melhor individuo já visto até agora\n",
    "    fitness = funcao_objetivo_pop(populacao)\n",
    "    menor_fitness = min(fitness)\n",
    "    \n",
    "    if menor_fitness < melhor_fitness_ja_visto:        \n",
    "        posicao = fitness.index(menor_fitness)\n",
    "        melhor_individuo_ja_visto = populacao[posicao]\n",
    "        melhor_fitness_ja_visto = menor_fitness\n",
    "        \n",
    "        print(\"\".join(melhor_individuo_ja_visto), \"- fitness:\", melhor_fitness_ja_visto)\n",
    "\n",
    "print()\n",
    "print(\"Melhor palpite da senha encontrado:\")\n",
    "print(\"\".join(melhor_individuo_ja_visto))"
   ]
  },
  {
   "cell_type": "markdown",
   "metadata": {},
   "source": [
    "## Conclusão\n",
    "\n"
   ]
  },
  {
   "cell_type": "markdown",
   "metadata": {},
   "source": [
    "Desta vez mudamos o problema, agora queremos descobrir uma senha a qual nossa função objetivo conhece. Para resolver esse problema usamos seguinte abordagem: definimos os caracteres que podem estar contidos na senha desejada, nossos indivíduos agora são possíveis senhas cujos genes são letras, transformamos as letras em números, calculamos a distância da senha inferida a senha original (nosso novo fitness). \n",
    "\n",
    "Assim resolvemos o problema que descobre as senhas em uma situação ótima, ou seja, sabemos a senha real, seu tamanho. Com essas informações, usamos o algoritmo genético para aproximar nossos chutes de senha aos valores reais da senha, calculando o fitness de minimização da distância das letras de ordem correspondente."
   ]
  },
  {
   "cell_type": "markdown",
   "metadata": {},
   "source": [
    "## Playground\n",
    "\n"
   ]
  },
  {
   "cell_type": "code",
   "execution_count": null,
   "metadata": {},
   "outputs": [],
   "source": []
  }
 ],
 "metadata": {
  "kernelspec": {
   "display_name": "ilumpy",
   "language": "python",
   "name": "ilumpy"
  },
  "language_info": {
   "codemirror_mode": {
    "name": "ipython",
    "version": 3
   },
   "file_extension": ".py",
   "mimetype": "text/x-python",
   "name": "python",
   "nbconvert_exporter": "python",
   "pygments_lexer": "ipython3",
   "version": "3.9.7"
  },
  "org": null
 },
 "nbformat": 4,
 "nbformat_minor": 4
}
