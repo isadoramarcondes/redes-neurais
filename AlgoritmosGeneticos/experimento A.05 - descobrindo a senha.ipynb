{
 "cells": [
  {
   "cell_type": "markdown",
   "metadata": {},
   "source": [
    "Descobrindo a senha\n",
    "===================\n",
    "\n"
   ]
  },
  {
   "cell_type": "markdown",
   "metadata": {},
   "source": [
    "## Objetivo\n",
    "\n"
   ]
  },
  {
   "cell_type": "markdown",
   "metadata": {},
   "source": [
    "Usar um algoritmo genético para descobrir uma senha.\n",
    "\n"
   ]
  },
  {
   "cell_type": "markdown",
   "metadata": {},
   "source": [
    "## Descrição do problema\n",
    "\n"
   ]
  },
  {
   "cell_type": "markdown",
   "metadata": {},
   "source": [
    "Neste problema, a função objetivo deve saber a senha correta e quantificar de alguma maneira o quão perto ou longe os palpites estão da solução (veja que isso é algo que não temos no mundo real. Nenhum site irá te dizer se você está acertando ou errando seu palpite). O critério de parada deste problema é quando a senha for descoberta.\n",
    "\n"
   ]
  },
  {
   "cell_type": "markdown",
   "metadata": {},
   "source": [
    "## Importações\n",
    "\n"
   ]
  },
  {
   "cell_type": "code",
   "execution_count": 1,
   "metadata": {},
   "outputs": [],
   "source": [
    "from funcoes import populacao_inicial_senha\n",
    "from funcoes import funcao_objetivo_pop_senha\n",
    "from funcoes import selecao_torneio_min\n",
    "from funcoes import cruzamento_ponto_simples as funcao_cruzamento\n",
    "from funcoes import mutacao_senha\n",
    "import random"
   ]
  },
  {
   "cell_type": "markdown",
   "metadata": {},
   "source": [
    "## Códigos e discussão\n",
    "\n"
   ]
  },
  {
   "cell_type": "code",
   "execution_count": 2,
   "metadata": {},
   "outputs": [],
   "source": [
    "### CONSTANTES\n",
    "\n",
    "# relacionadas à busca\n",
    "TAMANHO_POP = 50\n",
    "NUM_GERACOES = 2000\n",
    "CHANCE_CRUZAMENTO = 0.5\n",
    "CHANCE_MUTACAO = 0.05\n",
    "NUM_COMBATENTES_NO_TORNEIO = 3\n",
    "\n",
    "# relacionadas ao problema a ser resulvido\n",
    "SENHA = \"correcthorsebatterystaple\"\n",
    "LETRAS_POSSIVEIS = \"abcdefghijklmnopqrstuvwxyz\"\n",
    "NUM_GENES = len(SENHA)"
   ]
  },
  {
   "cell_type": "code",
   "execution_count": 3,
   "metadata": {},
   "outputs": [],
   "source": [
    "# funções locais\n",
    "\n",
    "def cria_populacao_inicial(tamanho, tamanho_senha):\n",
    "    return populacao_inicial_senha(tamanho, tamanho_senha, LETRAS_POSSIVEIS)\n",
    "\n",
    "def funcao_objetivo_pop(populacao):\n",
    "    return funcao_objetivo_pop_senha(populacao, SENHA)\n",
    "\n",
    "def funcao_selecao(populacao, fitness):\n",
    "    return selecao_torneio_min(populacao, fitness, NUM_COMBATENTES_NO_TORNEIO)\n",
    "\n",
    "def funcao_mutacao(individuo):\n",
    "    return mutacao_senha(individuo, LETRAS_POSSIVEIS)"
   ]
  },
  {
   "cell_type": "code",
   "execution_count": 4,
   "metadata": {},
   "outputs": [
    {
     "name": "stdout",
     "output_type": "stream",
     "text": [
      "Progresso da melhor senha já vista:\n",
      "gpgrmesciblccgwokrjutfsgm - fitness: 122\n",
      "txteijuhzuqacfucbrzriaqla - fitness: 118\n",
      "gpteijuhzuqacfucbrzriaqla - fitness: 97\n",
      "gpgrmesciuqacfucbrzriaqla - fitness: 92\n",
      "gpteijuhzuqacfucbrzrpaqla - fitness: 90\n",
      "gpgrijuhzuqacfucbrzrpaqla - fitness: 86\n",
      "gpteijuhzuqacfurbrzrpaqla - fitness: 75\n",
      "gpgrijuhzuqacfurbrzrpaqla - fitness: 71\n",
      "gprrijuhzuqacfuybrzrpaqla - fitness: 63\n",
      "gprrijuhzuqacfurbrzrpaqla - fitness: 60\n",
      "gprrijuhzuqacfurbrzrpapla - fitness: 59\n",
      "bprrijuhzuqacfurbrzrpapla - fitness: 56\n",
      "cprrijuhzuqacfurbrzrpapla - fitness: 55\n",
      "bprrijuhvuqacfurbrzrpapla - fitness: 52\n",
      "cprrijuhvuqacfurbrzrpapla - fitness: 51\n",
      "bprrijuhvusacfurbrzrpapla - fitness: 50\n",
      "cprrijuhvusacfurbrzrpapla - fitness: 49\n",
      "cprrihuhvusacfurbrzrpapla - fitness: 47\n",
      "cprrihuhsusacfurbrzrpapla - fitness: 44\n",
      "cprrihuhsusacfurbryrpapla - fitness: 43\n",
      "cprrihuhsusacftrbryrpapla - fitness: 42\n",
      "cprrihuhsssacftrbrzrpapla - fitness: 41\n",
      "cprrihuhsssacftrbryrpapla - fitness: 40\n",
      "cprrihuhsssfcftrbryrpapla - fitness: 37\n",
      "cprrihuhsssfcftrbryrpaplc - fitness: 35\n",
      "cprrihuhsssfcbtrbryrpapla - fitness: 33\n",
      "cprrihuhsssfcbtrbryrpaplc - fitness: 31\n",
      "cprrhhuhsssfcbtrbryrpaplc - fitness: 30\n",
      "cprrihuhsssfcbtrbryrraplc - fitness: 29\n",
      "cprrhhuhsssfcbtrbryrraplc - fitness: 28\n",
      "cprrhhuhsssfcbtrfryrraplc - fitness: 26\n",
      "cprrfhuhsssfcbtrbryrrapld - fitness: 25\n",
      "cprrfhuhsssfcbttbryrrapld - fitness: 23\n",
      "cprrfhuhossfcbtrbryrrapld - fitness: 21\n",
      "cprrfhuhossfcbttbryrtapld - fitness: 17\n",
      "cprrfhuhossfcbtteryrtapld - fitness: 14\n",
      "cprrfhthossfcbtteryrtapld - fitness: 13\n",
      "cprrfhthossfbbtteryrtapld - fitness: 12\n",
      "cprrfgthossfbbtteryrtapld - fitness: 11\n",
      "cprrfgthossfbatteryrtapld - fitness: 10\n",
      "cprrfgthossfbatterystapld - fitness: 9\n",
      "cprrfbthossfbatterystapld - fitness: 6\n",
      "cprrebthossfbatterystapld - fitness: 5\n",
      "cprrecthossfbatterystapld - fitness: 4\n",
      "cprrecthossfbatterystaple - fitness: 3\n",
      "correcthossfbatterystaple - fitness: 2\n",
      "correcthorsfbatterystaple - fitness: 1\n",
      "correcthorsebatterystaple - fitness: 0\n",
      "\n",
      "Melhor palpite da senha encontrado:\n",
      "correcthorsebatterystaple\n"
     ]
    }
   ],
   "source": [
    "populacao = cria_populacao_inicial(TAMANHO_POP, NUM_GENES)\n",
    "\n",
    "melhor_fitness_ja_visto = float(\"inf\")  # é assim que escrevemos infinito em python\n",
    "\n",
    "print(\"Progresso da melhor senha já vista:\")\n",
    "\n",
    "for n in range(NUM_GERACOES):    \n",
    "    \n",
    "    # Seleção\n",
    "    fitness = funcao_objetivo_pop(populacao)\n",
    "    populacao = funcao_selecao(populacao, fitness)\n",
    "    \n",
    "    # Cruzamento\n",
    "    pais = populacao[0::2]\n",
    "    maes = populacao[1::2]\n",
    "    \n",
    "    contador = 0\n",
    "    \n",
    "    for pai, mae in zip(pais, maes):\n",
    "        if random.random() <= CHANCE_CRUZAMENTO:\n",
    "            filho1, filho2 = funcao_cruzamento(pai, mae)\n",
    "            populacao[contador] = filho1\n",
    "            populacao[contador + 1] = filho2\n",
    "        \n",
    "        contador = contador + 2   \n",
    "        \n",
    "    # Mutação\n",
    "    for n in range(len(populacao)):\n",
    "        if random.random() <= CHANCE_MUTACAO:\n",
    "            individuo = populacao[n]\n",
    "            populacao[n] = funcao_mutacao(individuo)            \n",
    "            \n",
    "    # melhor individuo já visto até agora\n",
    "    fitness = funcao_objetivo_pop(populacao)\n",
    "    menor_fitness = min(fitness)\n",
    "    if menor_fitness < melhor_fitness_ja_visto:        \n",
    "        posicao = fitness.index(menor_fitness)\n",
    "        melhor_individuo_ja_visto = populacao[posicao]\n",
    "        melhor_fitness_ja_visto = menor_fitness\n",
    "        print(\"\".join(melhor_individuo_ja_visto), \"- fitness:\", melhor_fitness_ja_visto)\n",
    "\n",
    "print()\n",
    "print(\"Melhor palpite da senha encontrado:\")\n",
    "print(\"\".join(melhor_individuo_ja_visto))"
   ]
  },
  {
   "cell_type": "markdown",
   "metadata": {},
   "source": [
    "## Conclusão\n",
    "\n"
   ]
  },
  {
   "cell_type": "markdown",
   "metadata": {},
   "source": [
    "a "
   ]
  },
  {
   "cell_type": "markdown",
   "metadata": {},
   "source": [
    "## Playground\n",
    "\n"
   ]
  },
  {
   "cell_type": "code",
   "execution_count": null,
   "metadata": {},
   "outputs": [],
   "source": []
  }
 ],
 "metadata": {
  "kernelspec": {
   "display_name": "ilumpy",
   "language": "python",
   "name": "ilumpy"
  },
  "language_info": {
   "codemirror_mode": {
    "name": "ipython",
    "version": 3
   },
   "file_extension": ".py",
   "mimetype": "text/x-python",
   "name": "python",
   "nbconvert_exporter": "python",
   "pygments_lexer": "ipython3",
   "version": "3.9.7"
  },
  "org": null
 },
 "nbformat": 4,
 "nbformat_minor": 4
}
