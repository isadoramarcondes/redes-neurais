{
 "cells": [
  {
   "cell_type": "markdown",
   "metadata": {},
   "source": [
    "Descobrindo a senha\n",
    "===================\n",
    "\n"
   ]
  },
  {
   "cell_type": "markdown",
   "metadata": {},
   "source": [
    "## Objetivo\n",
    "\n"
   ]
  },
  {
   "cell_type": "markdown",
   "metadata": {},
   "source": [
    "Usar um algoritmo genético para descobrir uma senha.\n",
    "\n"
   ]
  },
  {
   "cell_type": "markdown",
   "metadata": {},
   "source": [
    "## Descrição do problema\n",
    "\n"
   ]
  },
  {
   "cell_type": "markdown",
   "metadata": {},
   "source": [
    "Neste problema, a função objetivo deve saber a senha correta e quantificar de alguma maneira o quão perto ou longe os palpites estão da solução (veja que isso é algo que não temos no mundo real. Nenhum site irá te dizer se você está acertando ou errando seu palpite). O critério de parada deste problema é quando a senha for descoberta.\n",
    "\n"
   ]
  },
  {
   "cell_type": "markdown",
   "metadata": {},
   "source": [
    "## Importações\n",
    "\n"
   ]
  },
  {
   "cell_type": "code",
   "execution_count": 1,
   "metadata": {},
   "outputs": [],
   "source": [
    "from funcoes import populacao_inicial_senha\n",
    "from funcoes import funcao_objetivo_pop_senha\n",
    "from funcoes import selecao_torneio_min\n",
    "from funcoes import cruzamento_ponto_simples as funcao_cruzamento\n",
    "from funcoes import mutacao_senha\n",
    "import random"
   ]
  },
  {
   "cell_type": "markdown",
   "metadata": {},
   "source": [
    "## Códigos e discussão\n",
    "\n"
   ]
  },
  {
   "cell_type": "code",
   "execution_count": 5,
   "metadata": {},
   "outputs": [],
   "source": [
    "### CONSTANTES\n",
    "\n",
    "# relacionadas à busca\n",
    "TAMANHO_POP = 50\n",
    "NUM_GERACOES = 2000\n",
    "CHANCE_CRUZAMENTO = 0.5\n",
    "CHANCE_MUTACAO = 0.05\n",
    "NUM_COMBATENTES_NO_TORNEIO = 3\n",
    "\n",
    "# relacionadas ao problema a ser resulvido\n",
    "SENHA = \"correcthorsebatterystaple\" # o que estou tentando descobrir\n",
    "LETRAS_POSSIVEIS = \"abcdefghijklmnopqrstuvwxyz\" # todas letras que podem estar na minha senha\n",
    "NUM_GENES = len(SENHA)"
   ]
  },
  {
   "cell_type": "code",
   "execution_count": 3,
   "metadata": {},
   "outputs": [],
   "source": [
    "# funções locais\n",
    "\n",
    "def cria_populacao_inicial(tamanho, tamanho_senha):\n",
    "    return populacao_inicial_senha(tamanho, tamanho_senha, LETRAS_POSSIVEIS)\n",
    "\n",
    "def funcao_objetivo_pop(populacao):\n",
    "    return funcao_objetivo_pop_senha(populacao, SENHA)\n",
    "\n",
    "def funcao_selecao(populacao, fitness):\n",
    "    return selecao_torneio_min(populacao, fitness, NUM_COMBATENTES_NO_TORNEIO)\n",
    "\n",
    "def funcao_mutacao(individuo):\n",
    "    return mutacao_senha(individuo, LETRAS_POSSIVEIS)"
   ]
  },
  {
   "cell_type": "code",
   "execution_count": 6,
   "metadata": {},
   "outputs": [
    {
     "name": "stdout",
     "output_type": "stream",
     "text": [
      "Progresso da melhor senha já vista:\n",
      "nsyvnkpogppjacyswhrqjgnmg - fitness: 139\n",
      "dmcenkpogppjacmwfxorxgnmg - fitness: 123\n",
      "nsyvnkpogppjacmwfxorxgnmg - fitness: 118\n",
      "enxqajoafqjkbfysmyvqjgnmg - fitness: 110\n",
      "enxqajoogppjacmwfxorxgnmg - fitness: 97\n",
      "qssseapnoppjacmwfxorxgnmg - fitness: 88\n",
      "essneapogppjacmwfxorsgnmg - fitness: 85\n",
      "essneapnoppjacmwfxorxgnmg - fitness: 79\n",
      "essseapnoppeacmwfxorxgnmg - fitness: 71\n",
      "essseapnoppeacmwfxorsgnmg - fitness: 68\n",
      "essseapnoppeacmwfrorxgnmg - fitness: 65\n",
      "essseapnoppeacmwfrorsgnmg - fitness: 62\n",
      "essseaploppeacmwfrorsgnmg - fitness: 60\n",
      "essseapnoppeacvwfrorsgnmg - fitness: 57\n",
      "elsseaploppeacvwfrorsgnmg - fitness: 54\n",
      "elsseatloppeacvwfrorsgnmg - fitness: 50\n",
      "elrseatloppeacvwfrorsgnmg - fitness: 49\n",
      "elsseatioppeacvwfrorsgnmg - fitness: 47\n",
      "elsseatloppeacvwfrsrsgnmg - fitness: 46\n",
      "elrseatloppeacvwfrsrsgnmg - fitness: 45\n",
      "emrseatloppeacvwfrsrsgnmg - fitness: 44\n",
      "emrseatloppeacvrfrsrsgnmg - fitness: 43\n",
      "emrseatkoppeacvrfrsrsgnmg - fitness: 42\n",
      "emrseatfoppeacvrfrsrsgnmg - fitness: 41\n",
      "emrseatfoppeacvrfrwrsgnmg - fitness: 37\n",
      "emrseatfoppebcvrfrzrsgnmg - fitness: 35\n",
      "emrseatforpebcvrfrzrsgnmg - fitness: 33\n",
      "emrseatforpebcvrfrzrsgnmf - fitness: 32\n",
      "emrseatforpebcvsfrzrsgnmf - fitness: 31\n",
      "dmrseatforpebcvsfrzrsgnmf - fitness: 30\n",
      "dorseatforpebcvsfrzrsgnmf - fitness: 28\n",
      "dorseatforpebcvsfrzrscnmf - fitness: 24\n",
      "dorreatforpebcvsfrzrscnmf - fitness: 23\n",
      "dorreatforpebcvsfrzrscqmf - fitness: 22\n",
      "correatforpebcvsfrzrscqmf - fitness: 21\n",
      "correatforpebcusfrzrscqmf - fitness: 20\n",
      "dorreatfortebcusfrzrscqmf - fitness: 19\n",
      "correatfortebcusfrzrscqmf - fitness: 18\n",
      "correatfortebcutfrzrscqmf - fitness: 17\n",
      "correatfortebcutfrzsscqmf - fitness: 16\n",
      "correatforsebcutfrzsscqmf - fitness: 15\n",
      "correatforsebcutfrysscqmf - fitness: 14\n",
      "correatgorsebcutfrysscqmf - fitness: 13\n",
      "correbtgorsebcutfrysscqmf - fitness: 12\n",
      "correbtgorsebcutdrystcqmf - fitness: 11\n",
      "correbtgorsebcuterystcqmf - fitness: 10\n",
      "correbtgorsebauterystcqmf - fitness: 8\n",
      "correbtgorsebauterystbqmf - fitness: 7\n",
      "correbtgorsebauterystaqmf - fitness: 6\n",
      "correbtgorsebauterystapmf - fitness: 5\n",
      "correbtgorsebatterystapmf - fitness: 4\n",
      "correbthorsebauterystapme - fitness: 3\n",
      "correcthorsebauterystapme - fitness: 2\n",
      "correcthorsebauterystaple - fitness: 1\n",
      "correcthorsebatterystaple - fitness: 0\n",
      "\n",
      "Melhor palpite da senha encontrado:\n",
      "correcthorsebatterystafle\n"
     ]
    }
   ],
   "source": [
    "populacao = cria_populacao_inicial(TAMANHO_POP, NUM_GENES)\n",
    "\n",
    "melhor_fitness_ja_visto = float(\"inf\")  # é assim que escrevemos infinito em python\n",
    "                        # assim, o primeiro indivíduo já substituirá, \n",
    "                        # pois vai ser melhor que infinito\n",
    "\n",
    "print(\"Progresso da melhor senha já vista:\")\n",
    "\n",
    "while melhor_fitness_ja_visto != 0:\n",
    "    \n",
    "    # Seleção\n",
    "    fitness = funcao_objetivo_pop(populacao)\n",
    "    populacao = funcao_selecao(populacao, fitness)\n",
    "    \n",
    "    # Cruzamento\n",
    "    pais = populacao[0::2]\n",
    "    maes = populacao[1::2]\n",
    "    \n",
    "    contador = 0\n",
    "    \n",
    "    for pai, mae in zip(pais, maes):\n",
    "        if random.random() <= CHANCE_CRUZAMENTO:\n",
    "            filho1, filho2 = funcao_cruzamento(pai, mae)\n",
    "            populacao[contador] = filho1\n",
    "            populacao[contador + 1] = filho2\n",
    "        \n",
    "        contador = contador + 2   \n",
    "        \n",
    "    # Mutação\n",
    "    for n in range(len(populacao)):\n",
    "        if random.random() <= CHANCE_MUTACAO:\n",
    "            individuo = populacao[n]\n",
    "            populacao[n] = funcao_mutacao(individuo)            \n",
    "            \n",
    "    # melhor individuo já visto até agora\n",
    "    fitness = funcao_objetivo_pop(populacao)\n",
    "    menor_fitness = min(fitness)\n",
    "    if menor_fitness < melhor_fitness_ja_visto:        \n",
    "        posicao = fitness.index(menor_fitness)\n",
    "        melhor_individuo_ja_visto = populacao[posicao]\n",
    "        melhor_fitness_ja_visto = menor_fitness\n",
    "        print(\"\".join(melhor_individuo_ja_visto), \"- fitness:\", melhor_fitness_ja_visto)\n",
    "\n",
    "print()\n",
    "print(\"Melhor palpite da senha encontrado:\")\n",
    "print(\"\".join(melhor_individuo_ja_visto))"
   ]
  },
  {
   "cell_type": "markdown",
   "metadata": {},
   "source": [
    "## Conclusão\n",
    "\n"
   ]
  },
  {
   "cell_type": "markdown",
   "metadata": {},
   "source": [
    "a "
   ]
  },
  {
   "cell_type": "markdown",
   "metadata": {},
   "source": [
    "## Playground\n",
    "\n"
   ]
  },
  {
   "cell_type": "code",
   "execution_count": null,
   "metadata": {},
   "outputs": [],
   "source": []
  }
 ],
 "metadata": {
  "kernelspec": {
   "display_name": "ilumpy",
   "language": "python",
   "name": "ilumpy"
  },
  "language_info": {
   "codemirror_mode": {
    "name": "ipython",
    "version": 3
   },
   "file_extension": ".py",
   "mimetype": "text/x-python",
   "name": "python",
   "nbconvert_exporter": "python",
   "pygments_lexer": "ipython3",
   "version": "3.9.7"
  },
  "org": null
 },
 "nbformat": 4,
 "nbformat_minor": 4
}
